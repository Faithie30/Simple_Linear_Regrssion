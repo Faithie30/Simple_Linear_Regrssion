{
 "cells": [
  {
   "cell_type": "markdown",
   "metadata": {},
   "source": [
    "# Cross Validation and Simple Linear Regression\n",
    "\n",
    "This is the process that gives us the internal and the cross-validation measures of <b> predictive accuracy </b>for a <b>simple linear regression</b>. The data are <b>randomly assigned</b> to a number of \"folds\", which in our context is the <b>test</b> and <b>training</b> folds. Each fold is removed, in turn, while the <b>remaining data</b> is used to <b>re-fit</b> the regression model and to <b>predict</b> at the <b>deleted observations.</b>\n",
    "\n",
    "- We will predict employee salaries from different employee characteristics (or features). <br> \n",
    "- We are going to use a simple supervised learning technique: linear regression. \n",
    "- We want to build a simple model to determine how well Years Worked predicts an employee’s salary. Years Worked predicts an employee’s salary."
   ]
  },
  {
   "cell_type": "markdown",
   "metadata": {},
   "source": [
    "## 1. Importing"
   ]
  },
  {
   "cell_type": "code",
   "execution_count": 27,
   "metadata": {},
   "outputs": [
    {
     "ename": "ImportError",
     "evalue": "cannot import name 'rmse' from 'sklearn.metrics' (C:\\Users\\Mc Camel RT .LAPTOP-6N3UDB08\\Anaconda3\\lib\\site-packages\\sklearn\\metrics\\__init__.py)",
     "output_type": "error",
     "traceback": [
      "\u001b[1;31m---------------------------------------------------------------------------\u001b[0m",
      "\u001b[1;31mImportError\u001b[0m                               Traceback (most recent call last)",
      "\u001b[1;32m<ipython-input-27-42cdd3f63d6f>\u001b[0m in \u001b[0;36m<module>\u001b[1;34m\u001b[0m\n\u001b[0;32m     16\u001b[0m \u001b[1;32mfrom\u001b[0m \u001b[0mscipy\u001b[0m \u001b[1;32mimport\u001b[0m \u001b[0mstats\u001b[0m\u001b[1;33m\u001b[0m\u001b[1;33m\u001b[0m\u001b[0m\n\u001b[0;32m     17\u001b[0m \u001b[1;32mfrom\u001b[0m \u001b[0mscipy\u001b[0m\u001b[1;33m.\u001b[0m\u001b[0mstats\u001b[0m \u001b[1;32mimport\u001b[0m \u001b[0mpearsonr\u001b[0m\u001b[1;33m\u001b[0m\u001b[1;33m\u001b[0m\u001b[0m\n\u001b[1;32m---> 18\u001b[1;33m \u001b[1;32mfrom\u001b[0m \u001b[0msklearn\u001b[0m\u001b[1;33m.\u001b[0m\u001b[0mmetrics\u001b[0m \u001b[1;32mimport\u001b[0m \u001b[0mrmse\u001b[0m\u001b[1;33m\u001b[0m\u001b[1;33m\u001b[0m\u001b[0m\n\u001b[0m\u001b[0;32m     19\u001b[0m \u001b[1;32mfrom\u001b[0m \u001b[0mmath\u001b[0m \u001b[1;32mimport\u001b[0m \u001b[0msqrt\u001b[0m\u001b[1;33m\u001b[0m\u001b[1;33m\u001b[0m\u001b[0m\n\u001b[0;32m     20\u001b[0m \u001b[1;33m\u001b[0m\u001b[0m\n",
      "\u001b[1;31mImportError\u001b[0m: cannot import name 'rmse' from 'sklearn.metrics' (C:\\Users\\Mc Camel RT .LAPTOP-6N3UDB08\\Anaconda3\\lib\\site-packages\\sklearn\\metrics\\__init__.py)"
     ]
    }
   ],
   "source": [
    "# Importing libraries\n",
    "import matplotlib.pyplot as plt\n",
    "import pandas as pd\n",
    "import seaborn as sns\n",
    "from sklearn.model_selection import train_test_split\n",
    "import statsmodels.formula.api as smf\n",
    "import matplotlib.pyplot as plt\n",
    "import pandas as pd\n",
    "import numpy as np\n",
    "from sklearn.linear_model import LinearRegression\n",
    "import statsmodels.formula.api as smf\n",
    "from sklearn.model_selection import train_test_split\n",
    "import seaborn as sns\n",
    "from sklearn import datasets, linear_model\n",
    "from scipy.stats import iqr\n",
    "from scipy import stats\n",
    "from scipy.stats import pearsonr\n",
    "from sklearn.metrics import mean_squared_error\n",
    "from math import sqrt\n",
    "\n",
    "from pandas import Series\n",
    "from numpy.random import randn"
   ]
  },
  {
   "cell_type": "code",
   "execution_count": null,
   "metadata": {},
   "outputs": [],
   "source": []
  },
  {
   "cell_type": "code",
   "execution_count": 2,
   "metadata": {},
   "outputs": [
    {
     "data": {
      "text/html": [
       "<div>\n",
       "<style scoped>\n",
       "    .dataframe tbody tr th:only-of-type {\n",
       "        vertical-align: middle;\n",
       "    }\n",
       "\n",
       "    .dataframe tbody tr th {\n",
       "        vertical-align: top;\n",
       "    }\n",
       "\n",
       "    .dataframe thead th {\n",
       "        text-align: right;\n",
       "    }\n",
       "</style>\n",
       "<table border=\"1\" class=\"dataframe\">\n",
       "  <thead>\n",
       "    <tr style=\"text-align: right;\">\n",
       "      <th></th>\n",
       "      <th>salary</th>\n",
       "      <th>exprior</th>\n",
       "      <th>yearsworked</th>\n",
       "      <th>yearsrank</th>\n",
       "      <th>market</th>\n",
       "      <th>degree</th>\n",
       "      <th>otherqual</th>\n",
       "      <th>position</th>\n",
       "      <th>male</th>\n",
       "      <th>Field</th>\n",
       "      <th>yearsabs</th>\n",
       "    </tr>\n",
       "  </thead>\n",
       "  <tbody>\n",
       "    <tr>\n",
       "      <th>0</th>\n",
       "      <td>53000.0</td>\n",
       "      <td>0</td>\n",
       "      <td>0</td>\n",
       "      <td>0</td>\n",
       "      <td>1.17</td>\n",
       "      <td>1</td>\n",
       "      <td>0</td>\n",
       "      <td>1</td>\n",
       "      <td>1</td>\n",
       "      <td>3</td>\n",
       "      <td>0</td>\n",
       "    </tr>\n",
       "    <tr>\n",
       "      <th>1</th>\n",
       "      <td>58000.0</td>\n",
       "      <td>1</td>\n",
       "      <td>0</td>\n",
       "      <td>0</td>\n",
       "      <td>1.24</td>\n",
       "      <td>1</td>\n",
       "      <td>0</td>\n",
       "      <td>1</td>\n",
       "      <td>1</td>\n",
       "      <td>2</td>\n",
       "      <td>0</td>\n",
       "    </tr>\n",
       "    <tr>\n",
       "      <th>2</th>\n",
       "      <td>45500.0</td>\n",
       "      <td>0</td>\n",
       "      <td>0</td>\n",
       "      <td>0</td>\n",
       "      <td>1.21</td>\n",
       "      <td>1</td>\n",
       "      <td>0</td>\n",
       "      <td>1</td>\n",
       "      <td>1</td>\n",
       "      <td>3</td>\n",
       "      <td>2</td>\n",
       "    </tr>\n",
       "    <tr>\n",
       "      <th>3</th>\n",
       "      <td>35782.0</td>\n",
       "      <td>0</td>\n",
       "      <td>2</td>\n",
       "      <td>1</td>\n",
       "      <td>0.99</td>\n",
       "      <td>1</td>\n",
       "      <td>0</td>\n",
       "      <td>1</td>\n",
       "      <td>1</td>\n",
       "      <td>4</td>\n",
       "      <td>1</td>\n",
       "    </tr>\n",
       "    <tr>\n",
       "      <th>4</th>\n",
       "      <td>34731.0</td>\n",
       "      <td>0</td>\n",
       "      <td>2</td>\n",
       "      <td>2</td>\n",
       "      <td>0.91</td>\n",
       "      <td>1</td>\n",
       "      <td>0</td>\n",
       "      <td>1</td>\n",
       "      <td>1</td>\n",
       "      <td>4</td>\n",
       "      <td>1</td>\n",
       "    </tr>\n",
       "  </tbody>\n",
       "</table>\n",
       "</div>"
      ],
      "text/plain": [
       "    salary  exprior  yearsworked  yearsrank  market  degree  otherqual  \\\n",
       "0  53000.0        0            0          0    1.17       1          0   \n",
       "1  58000.0        1            0          0    1.24       1          0   \n",
       "2  45500.0        0            0          0    1.21       1          0   \n",
       "3  35782.0        0            2          1    0.99       1          0   \n",
       "4  34731.0        0            2          2    0.91       1          0   \n",
       "\n",
       "   position  male  Field  yearsabs  \n",
       "0         1     1      3         0  \n",
       "1         1     1      2         0  \n",
       "2         1     1      3         2  \n",
       "3         1     1      4         1  \n",
       "4         1     1      4         1  "
      ]
     },
     "execution_count": 2,
     "metadata": {},
     "output_type": "execute_result"
    }
   ],
   "source": [
    "# Reading data into a dataframe\n",
    "salary = pd.read_csv('salary (1).csv')\n",
    "salary.head()"
   ]
  },
  {
   "cell_type": "markdown",
   "metadata": {},
   "source": [
    "<h1><center>Type of data</center></h1> \n",
    "\n",
    "| Continuous | Categorical | Binary |\n",
    "| --- | --- | --- |\n",
    "| Salary | position | degree |\n",
    "| exprior | field | otherqual |\n",
    "| Yearsworked | - | male |\n",
    "| market | - | - |\n",
    "| yearsranked | - | -|\n",
    "| yearsabs | - | - |\n",
    "\n",
    "<h1><center>Feature description</center></h1> \n",
    "\n",
    "| Feature | Description |\n",
    "| --- | --- |\n",
    "| exprior | Years of experience prior to working in this field |\n",
    "| Yearsworked | Years worked in this field |\n",
    "| yearsrank | Years worked at current rank |\n",
    "| market | Market value (1 = salary at market value for position, <br> <1 salary lower than market value for position,<br> >1 salary higher than market value for position) |\n",
    "| degree | Has degree (0 = no 1= yes) |\n",
    "| otherqual | Has other post-secondary qualification (0 = no, 1=yes) |\n",
    "| position | Position (1 = Junior Employee 2=Manager 3= Executive) |\n",
    "| male | 0 = no 1 1=yes |\n",
    "| Field | Field of work (1 = Engineering 2=Finance 3=Human Resource 4=Marketing) |\n",
    "| yearsabs |Years absent from work (e.g. due to illness / child rearing / personal reasons)|\n",
    "\n",
    "<h1><center>Response description</center></h1> \n",
    "\n",
    "| Response | Description |\n",
    "| --- | --- |\n",
    "| <font color='black'> salary </font>| <font color='black'>  Annual salary in dollars </font> | "
   ]
  },
  {
   "cell_type": "markdown",
   "metadata": {},
   "source": [
    "## 2. Cleaning data\n",
    "Data cleaning is the process of detecting and correcting corrupt or inaccurate data from a dataset, table, or database and refers to identifying incomplete, incorrect, inaccurate or irrelevant parts of the data and then replacing, modifying, or deleting the dirty or coarse data.\n",
    "### 2.1 Examining missing values"
   ]
  },
  {
   "cell_type": "code",
   "execution_count": 3,
   "metadata": {},
   "outputs": [
    {
     "data": {
      "text/plain": [
       "salary         1\n",
       "exprior        0\n",
       "yearsworked    0\n",
       "yearsrank      0\n",
       "market         0\n",
       "degree         0\n",
       "otherqual      0\n",
       "position       0\n",
       "male           0\n",
       "Field          0\n",
       "yearsabs       0\n",
       "dtype: int64"
      ]
     },
     "execution_count": 3,
     "metadata": {},
     "output_type": "execute_result"
    }
   ],
   "source": [
    "#Checking for missing values for our dataset\n",
    "\n",
    "salary.isnull().sum()"
   ]
  },
  {
   "cell_type": "code",
   "execution_count": 4,
   "metadata": {},
   "outputs": [
    {
     "data": {
      "text/html": [
       "<div>\n",
       "<style scoped>\n",
       "    .dataframe tbody tr th:only-of-type {\n",
       "        vertical-align: middle;\n",
       "    }\n",
       "\n",
       "    .dataframe tbody tr th {\n",
       "        vertical-align: top;\n",
       "    }\n",
       "\n",
       "    .dataframe thead th {\n",
       "        text-align: right;\n",
       "    }\n",
       "</style>\n",
       "<table border=\"1\" class=\"dataframe\">\n",
       "  <thead>\n",
       "    <tr style=\"text-align: right;\">\n",
       "      <th></th>\n",
       "      <th>salary</th>\n",
       "      <th>exprior</th>\n",
       "      <th>yearsworked</th>\n",
       "      <th>yearsrank</th>\n",
       "      <th>market</th>\n",
       "      <th>degree</th>\n",
       "      <th>otherqual</th>\n",
       "      <th>position</th>\n",
       "      <th>male</th>\n",
       "      <th>Field</th>\n",
       "      <th>yearsabs</th>\n",
       "    </tr>\n",
       "  </thead>\n",
       "  <tbody>\n",
       "    <tr>\n",
       "      <th>0</th>\n",
       "      <td>53000.0</td>\n",
       "      <td>0</td>\n",
       "      <td>0</td>\n",
       "      <td>0</td>\n",
       "      <td>1.17</td>\n",
       "      <td>1</td>\n",
       "      <td>0</td>\n",
       "      <td>1</td>\n",
       "      <td>1</td>\n",
       "      <td>3</td>\n",
       "      <td>0</td>\n",
       "    </tr>\n",
       "    <tr>\n",
       "      <th>1</th>\n",
       "      <td>58000.0</td>\n",
       "      <td>1</td>\n",
       "      <td>0</td>\n",
       "      <td>0</td>\n",
       "      <td>1.24</td>\n",
       "      <td>1</td>\n",
       "      <td>0</td>\n",
       "      <td>1</td>\n",
       "      <td>1</td>\n",
       "      <td>2</td>\n",
       "      <td>0</td>\n",
       "    </tr>\n",
       "    <tr>\n",
       "      <th>2</th>\n",
       "      <td>45500.0</td>\n",
       "      <td>0</td>\n",
       "      <td>0</td>\n",
       "      <td>0</td>\n",
       "      <td>1.21</td>\n",
       "      <td>1</td>\n",
       "      <td>0</td>\n",
       "      <td>1</td>\n",
       "      <td>1</td>\n",
       "      <td>3</td>\n",
       "      <td>2</td>\n",
       "    </tr>\n",
       "    <tr>\n",
       "      <th>3</th>\n",
       "      <td>35782.0</td>\n",
       "      <td>0</td>\n",
       "      <td>2</td>\n",
       "      <td>1</td>\n",
       "      <td>0.99</td>\n",
       "      <td>1</td>\n",
       "      <td>0</td>\n",
       "      <td>1</td>\n",
       "      <td>1</td>\n",
       "      <td>4</td>\n",
       "      <td>1</td>\n",
       "    </tr>\n",
       "    <tr>\n",
       "      <th>4</th>\n",
       "      <td>34731.0</td>\n",
       "      <td>0</td>\n",
       "      <td>2</td>\n",
       "      <td>2</td>\n",
       "      <td>0.91</td>\n",
       "      <td>1</td>\n",
       "      <td>0</td>\n",
       "      <td>1</td>\n",
       "      <td>1</td>\n",
       "      <td>4</td>\n",
       "      <td>1</td>\n",
       "    </tr>\n",
       "  </tbody>\n",
       "</table>\n",
       "</div>"
      ],
      "text/plain": [
       "    salary  exprior  yearsworked  yearsrank  market  degree  otherqual  \\\n",
       "0  53000.0        0            0          0    1.17       1          0   \n",
       "1  58000.0        1            0          0    1.24       1          0   \n",
       "2  45500.0        0            0          0    1.21       1          0   \n",
       "3  35782.0        0            2          1    0.99       1          0   \n",
       "4  34731.0        0            2          2    0.91       1          0   \n",
       "\n",
       "   position  male  Field  yearsabs  \n",
       "0         1     1      3         0  \n",
       "1         1     1      2         0  \n",
       "2         1     1      3         2  \n",
       "3         1     1      4         1  \n",
       "4         1     1      4         1  "
      ]
     },
     "execution_count": 4,
     "metadata": {},
     "output_type": "execute_result"
    }
   ],
   "source": [
    "#Filling the missing values with the average\n",
    "salary = salary.fillna(salary['salary'].mean())\n",
    "salary.head()"
   ]
  },
  {
   "cell_type": "markdown",
   "metadata": {},
   "source": [
    "##### What we did with the missing values in the data\n",
    "\n",
    "- We <b>filled</b> the missing value that appeared in the <b>salary</b> column with the <b>mean</b> of that column."
   ]
  },
  {
   "cell_type": "markdown",
   "metadata": {},
   "source": [
    "### 2.2 Examing duplicates within the dataset"
   ]
  },
  {
   "cell_type": "code",
   "execution_count": 5,
   "metadata": {},
   "outputs": [],
   "source": [
    "#Dropping duplicates within the dataset\n",
    "salary.drop_duplicates(inplace=True)"
   ]
  },
  {
   "cell_type": "markdown",
   "metadata": {},
   "source": [
    "##### Dealing with duplicates within the dataset\n",
    "\n",
    "We dropped any duplicates that may exist within the dataset"
   ]
  },
  {
   "cell_type": "markdown",
   "metadata": {},
   "source": [
    "### 2.3 Examining outliers within the dataset\n",
    "In statistics, an outlier is an observation point that is distant from other observations.\n"
   ]
  },
  {
   "cell_type": "code",
   "execution_count": 6,
   "metadata": {
    "scrolled": true
   },
   "outputs": [
    {
     "data": {
      "text/plain": [
       "<matplotlib.axes._subplots.AxesSubplot at 0x235d6215ba8>"
      ]
     },
     "execution_count": 6,
     "metadata": {},
     "output_type": "execute_result"
    },
    {
     "data": {
      "image/png": "[encoded data removed]",
      "text/plain": [
       "<Figure size 1080x1080 with 2 Axes>"
      ]
     },
     "metadata": {},
     "output_type": "display_data"
    }
   ],
   "source": [
    "#Checking for extreme values\n",
    "sns.set()\n",
    "sns.set(style=\"whitegrid\")\n",
    "fig, axes = plt.subplots(1,2, figsize=(15, 15))\n",
    "sns.boxplot(x=salary[\"salary\"], ax=axes[0], data = salary)\n",
    "sns.boxplot(x=salary[\"yearsworked\"], ax=axes[1],data = salary)\n"
   ]
  },
  {
   "cell_type": "code",
   "execution_count": 7,
   "metadata": {},
   "outputs": [],
   "source": [
    "#Removing the outliers\n",
    "removed_outliers = salary['salary'].between(salary['salary'].quantile(.05), salary['salary'].quantile(.95))\n"
   ]
  },
  {
   "cell_type": "markdown",
   "metadata": {},
   "source": [
    "##### Outliers\n",
    "\n",
    "Using the box plot method have observed <b> two outliers</b> for the salary values, and <b>none</b> for the yearsworked values. \n",
    "How we intend on dealing with the outliers is to <b>remove </b> them, so that the model that we will build will not be affected."
   ]
  },
  {
   "cell_type": "markdown",
   "metadata": {},
   "source": [
    "## 3. Spliting data\n",
    "These are two rather important concepts in data science and data analysis and are used as tools to prevent (or at least minimize) overfitting. We usually fit the model on a training set in order to make predications on a data that wasn’t trained (general data)"
   ]
  },
  {
   "cell_type": "code",
   "execution_count": 8,
   "metadata": {},
   "outputs": [],
   "source": [
    "#Split our data\n",
    "x = salary[['exprior','yearsworked','yearsrank','market','degree','otherqual','position', 'male','Field','yearsabs']]\n",
    "y = salary['salary']\n",
    "X_train, X_test, y_train, y_test = train_test_split(x, y, test_size=0.20)\n"
   ]
  },
  {
   "cell_type": "code",
   "execution_count": 9,
   "metadata": {},
   "outputs": [],
   "source": [
    "X_train, X_test, y_train, y_test = train_test_split(x, y, test_size=0.20)\n",
    "y_train = pd.DataFrame(y_train)"
   ]
  },
  {
   "cell_type": "markdown",
   "metadata": {},
   "source": [
    "### 3.1 Viewing the split data"
   ]
  },
  {
   "cell_type": "code",
   "execution_count": 10,
   "metadata": {
    "scrolled": true
   },
   "outputs": [
    {
     "data": {
      "text/html": [
       "<div>\n",
       "<style scoped>\n",
       "    .dataframe tbody tr th:only-of-type {\n",
       "        vertical-align: middle;\n",
       "    }\n",
       "\n",
       "    .dataframe tbody tr th {\n",
       "        vertical-align: top;\n",
       "    }\n",
       "\n",
       "    .dataframe thead th {\n",
       "        text-align: right;\n",
       "    }\n",
       "</style>\n",
       "<table border=\"1\" class=\"dataframe\">\n",
       "  <thead>\n",
       "    <tr style=\"text-align: right;\">\n",
       "      <th></th>\n",
       "      <th>exprior</th>\n",
       "      <th>yearsworked</th>\n",
       "      <th>yearsrank</th>\n",
       "      <th>market</th>\n",
       "      <th>degree</th>\n",
       "      <th>otherqual</th>\n",
       "      <th>position</th>\n",
       "      <th>male</th>\n",
       "      <th>Field</th>\n",
       "      <th>yearsabs</th>\n",
       "    </tr>\n",
       "  </thead>\n",
       "  <tbody>\n",
       "    <tr>\n",
       "      <th>324</th>\n",
       "      <td>21</td>\n",
       "      <td>5</td>\n",
       "      <td>5</td>\n",
       "      <td>0.92</td>\n",
       "      <td>1</td>\n",
       "      <td>0</td>\n",
       "      <td>2</td>\n",
       "      <td>1</td>\n",
       "      <td>4</td>\n",
       "      <td>0</td>\n",
       "    </tr>\n",
       "    <tr>\n",
       "      <th>233</th>\n",
       "      <td>1</td>\n",
       "      <td>21</td>\n",
       "      <td>11</td>\n",
       "      <td>0.99</td>\n",
       "      <td>1</td>\n",
       "      <td>0</td>\n",
       "      <td>3</td>\n",
       "      <td>1</td>\n",
       "      <td>1</td>\n",
       "      <td>0</td>\n",
       "    </tr>\n",
       "    <tr>\n",
       "      <th>8</th>\n",
       "      <td>0</td>\n",
       "      <td>2</td>\n",
       "      <td>1</td>\n",
       "      <td>0.85</td>\n",
       "      <td>1</td>\n",
       "      <td>0</td>\n",
       "      <td>1</td>\n",
       "      <td>1</td>\n",
       "      <td>1</td>\n",
       "      <td>1</td>\n",
       "    </tr>\n",
       "    <tr>\n",
       "      <th>462</th>\n",
       "      <td>0</td>\n",
       "      <td>12</td>\n",
       "      <td>11</td>\n",
       "      <td>0.88</td>\n",
       "      <td>1</td>\n",
       "      <td>0</td>\n",
       "      <td>1</td>\n",
       "      <td>0</td>\n",
       "      <td>4</td>\n",
       "      <td>30</td>\n",
       "    </tr>\n",
       "    <tr>\n",
       "      <th>426</th>\n",
       "      <td>3</td>\n",
       "      <td>2</td>\n",
       "      <td>2</td>\n",
       "      <td>0.85</td>\n",
       "      <td>1</td>\n",
       "      <td>0</td>\n",
       "      <td>1</td>\n",
       "      <td>0</td>\n",
       "      <td>3</td>\n",
       "      <td>0</td>\n",
       "    </tr>\n",
       "  </tbody>\n",
       "</table>\n",
       "</div>"
      ],
      "text/plain": [
       "     exprior  yearsworked  yearsrank  market  degree  otherqual  position  \\\n",
       "324       21            5          5    0.92       1          0         2   \n",
       "233        1           21         11    0.99       1          0         3   \n",
       "8          0            2          1    0.85       1          0         1   \n",
       "462        0           12         11    0.88       1          0         1   \n",
       "426        3            2          2    0.85       1          0         1   \n",
       "\n",
       "     male  Field  yearsabs  \n",
       "324     1      4         0  \n",
       "233     1      1         0  \n",
       "8       1      1         1  \n",
       "462     0      4        30  \n",
       "426     0      3         0  "
      ]
     },
     "execution_count": 10,
     "metadata": {},
     "output_type": "execute_result"
    }
   ],
   "source": [
    "#showcasing the first 5 observations of the feature variables\n",
    "X_train.head()\n"
   ]
  },
  {
   "cell_type": "code",
   "execution_count": 11,
   "metadata": {},
   "outputs": [
    {
     "data": {
      "text/html": [
       "<div>\n",
       "<style scoped>\n",
       "    .dataframe tbody tr th:only-of-type {\n",
       "        vertical-align: middle;\n",
       "    }\n",
       "\n",
       "    .dataframe tbody tr th {\n",
       "        vertical-align: top;\n",
       "    }\n",
       "\n",
       "    .dataframe thead th {\n",
       "        text-align: right;\n",
       "    }\n",
       "</style>\n",
       "<table border=\"1\" class=\"dataframe\">\n",
       "  <thead>\n",
       "    <tr style=\"text-align: right;\">\n",
       "      <th></th>\n",
       "      <th>salary</th>\n",
       "    </tr>\n",
       "  </thead>\n",
       "  <tbody>\n",
       "    <tr>\n",
       "      <th>324</th>\n",
       "      <td>41045.0</td>\n",
       "    </tr>\n",
       "    <tr>\n",
       "      <th>233</th>\n",
       "      <td>60717.0</td>\n",
       "    </tr>\n",
       "    <tr>\n",
       "      <th>8</th>\n",
       "      <td>36308.0</td>\n",
       "    </tr>\n",
       "    <tr>\n",
       "      <th>462</th>\n",
       "      <td>40636.0</td>\n",
       "    </tr>\n",
       "    <tr>\n",
       "      <th>426</th>\n",
       "      <td>39461.0</td>\n",
       "    </tr>\n",
       "  </tbody>\n",
       "</table>\n",
       "</div>"
      ],
      "text/plain": [
       "      salary\n",
       "324  41045.0\n",
       "233  60717.0\n",
       "8    36308.0\n",
       "462  40636.0\n",
       "426  39461.0"
      ]
     },
     "execution_count": 11,
     "metadata": {},
     "output_type": "execute_result"
    }
   ],
   "source": [
    "#showcasing the first 5 observations of the response variable (salary)\n",
    "y_train.head()"
   ]
  },
  {
   "cell_type": "code",
   "execution_count": 12,
   "metadata": {
    "scrolled": true
   },
   "outputs": [
    {
     "data": {
      "text/html": [
       "<div>\n",
       "<style scoped>\n",
       "    .dataframe tbody tr th:only-of-type {\n",
       "        vertical-align: middle;\n",
       "    }\n",
       "\n",
       "    .dataframe tbody tr th {\n",
       "        vertical-align: top;\n",
       "    }\n",
       "\n",
       "    .dataframe thead th {\n",
       "        text-align: right;\n",
       "    }\n",
       "</style>\n",
       "<table border=\"1\" class=\"dataframe\">\n",
       "  <thead>\n",
       "    <tr style=\"text-align: right;\">\n",
       "      <th></th>\n",
       "      <th>salary</th>\n",
       "    </tr>\n",
       "  </thead>\n",
       "  <tbody>\n",
       "    <tr>\n",
       "      <th>count</th>\n",
       "      <td>411.000000</td>\n",
       "    </tr>\n",
       "    <tr>\n",
       "      <th>mean</th>\n",
       "      <td>50722.844919</td>\n",
       "    </tr>\n",
       "    <tr>\n",
       "      <th>std</th>\n",
       "      <td>12715.740651</td>\n",
       "    </tr>\n",
       "    <tr>\n",
       "      <th>min</th>\n",
       "      <td>29000.000000</td>\n",
       "    </tr>\n",
       "    <tr>\n",
       "      <th>25%</th>\n",
       "      <td>39986.000000</td>\n",
       "    </tr>\n",
       "    <tr>\n",
       "      <th>50%</th>\n",
       "      <td>49252.000000</td>\n",
       "    </tr>\n",
       "    <tr>\n",
       "      <th>75%</th>\n",
       "      <td>60412.500000</td>\n",
       "    </tr>\n",
       "    <tr>\n",
       "      <th>max</th>\n",
       "      <td>96156.000000</td>\n",
       "    </tr>\n",
       "  </tbody>\n",
       "</table>\n",
       "</div>"
      ],
      "text/plain": [
       "             salary\n",
       "count    411.000000\n",
       "mean   50722.844919\n",
       "std    12715.740651\n",
       "min    29000.000000\n",
       "25%    39986.000000\n",
       "50%    49252.000000\n",
       "75%    60412.500000\n",
       "max    96156.000000"
      ]
     },
     "execution_count": 12,
     "metadata": {},
     "output_type": "execute_result"
    }
   ],
   "source": [
    "#Describing the dataset of the response variable (salary)\n",
    "y_train.describe()\n"
   ]
  },
  {
   "cell_type": "code",
   "execution_count": 13,
   "metadata": {
    "scrolled": true
   },
   "outputs": [
    {
     "data": {
      "text/html": [
       "<div>\n",
       "<style scoped>\n",
       "    .dataframe tbody tr th:only-of-type {\n",
       "        vertical-align: middle;\n",
       "    }\n",
       "\n",
       "    .dataframe tbody tr th {\n",
       "        vertical-align: top;\n",
       "    }\n",
       "\n",
       "    .dataframe thead th {\n",
       "        text-align: right;\n",
       "    }\n",
       "</style>\n",
       "<table border=\"1\" class=\"dataframe\">\n",
       "  <thead>\n",
       "    <tr style=\"text-align: right;\">\n",
       "      <th></th>\n",
       "      <th>exprior</th>\n",
       "      <th>yearsworked</th>\n",
       "      <th>yearsrank</th>\n",
       "      <th>market</th>\n",
       "      <th>degree</th>\n",
       "      <th>otherqual</th>\n",
       "      <th>position</th>\n",
       "      <th>male</th>\n",
       "      <th>Field</th>\n",
       "      <th>yearsabs</th>\n",
       "    </tr>\n",
       "  </thead>\n",
       "  <tbody>\n",
       "    <tr>\n",
       "      <th>count</th>\n",
       "      <td>411.000000</td>\n",
       "      <td>411.00000</td>\n",
       "      <td>411.000000</td>\n",
       "      <td>411.000000</td>\n",
       "      <td>411.000000</td>\n",
       "      <td>411.000000</td>\n",
       "      <td>411.000000</td>\n",
       "      <td>411.000000</td>\n",
       "      <td>411.000000</td>\n",
       "      <td>411.000000</td>\n",
       "    </tr>\n",
       "    <tr>\n",
       "      <th>mean</th>\n",
       "      <td>2.836983</td>\n",
       "      <td>12.83455</td>\n",
       "      <td>6.929440</td>\n",
       "      <td>0.947007</td>\n",
       "      <td>0.968370</td>\n",
       "      <td>0.038929</td>\n",
       "      <td>2.128954</td>\n",
       "      <td>0.749392</td>\n",
       "      <td>2.506083</td>\n",
       "      <td>7.330900</td>\n",
       "    </tr>\n",
       "    <tr>\n",
       "      <th>std</th>\n",
       "      <td>4.637619</td>\n",
       "      <td>9.36766</td>\n",
       "      <td>6.382322</td>\n",
       "      <td>0.150307</td>\n",
       "      <td>0.175227</td>\n",
       "      <td>0.193663</td>\n",
       "      <td>0.817738</td>\n",
       "      <td>0.433891</td>\n",
       "      <td>1.122644</td>\n",
       "      <td>17.465017</td>\n",
       "    </tr>\n",
       "    <tr>\n",
       "      <th>min</th>\n",
       "      <td>0.000000</td>\n",
       "      <td>0.00000</td>\n",
       "      <td>0.000000</td>\n",
       "      <td>0.710000</td>\n",
       "      <td>0.000000</td>\n",
       "      <td>0.000000</td>\n",
       "      <td>1.000000</td>\n",
       "      <td>0.000000</td>\n",
       "      <td>1.000000</td>\n",
       "      <td>0.000000</td>\n",
       "    </tr>\n",
       "    <tr>\n",
       "      <th>25%</th>\n",
       "      <td>0.000000</td>\n",
       "      <td>4.00000</td>\n",
       "      <td>2.000000</td>\n",
       "      <td>0.840000</td>\n",
       "      <td>1.000000</td>\n",
       "      <td>0.000000</td>\n",
       "      <td>1.000000</td>\n",
       "      <td>0.500000</td>\n",
       "      <td>1.000000</td>\n",
       "      <td>0.000000</td>\n",
       "    </tr>\n",
       "    <tr>\n",
       "      <th>50%</th>\n",
       "      <td>0.000000</td>\n",
       "      <td>12.00000</td>\n",
       "      <td>4.000000</td>\n",
       "      <td>0.920000</td>\n",
       "      <td>1.000000</td>\n",
       "      <td>0.000000</td>\n",
       "      <td>2.000000</td>\n",
       "      <td>1.000000</td>\n",
       "      <td>3.000000</td>\n",
       "      <td>1.000000</td>\n",
       "    </tr>\n",
       "    <tr>\n",
       "      <th>75%</th>\n",
       "      <td>4.000000</td>\n",
       "      <td>22.00000</td>\n",
       "      <td>11.000000</td>\n",
       "      <td>1.020000</td>\n",
       "      <td>1.000000</td>\n",
       "      <td>0.000000</td>\n",
       "      <td>3.000000</td>\n",
       "      <td>1.000000</td>\n",
       "      <td>3.500000</td>\n",
       "      <td>2.000000</td>\n",
       "    </tr>\n",
       "    <tr>\n",
       "      <th>max</th>\n",
       "      <td>23.000000</td>\n",
       "      <td>41.00000</td>\n",
       "      <td>28.000000</td>\n",
       "      <td>1.330000</td>\n",
       "      <td>1.000000</td>\n",
       "      <td>1.000000</td>\n",
       "      <td>3.000000</td>\n",
       "      <td>1.000000</td>\n",
       "      <td>4.000000</td>\n",
       "      <td>118.000000</td>\n",
       "    </tr>\n",
       "  </tbody>\n",
       "</table>\n",
       "</div>"
      ],
      "text/plain": [
       "          exprior  yearsworked   yearsrank      market      degree  \\\n",
       "count  411.000000    411.00000  411.000000  411.000000  411.000000   \n",
       "mean     2.836983     12.83455    6.929440    0.947007    0.968370   \n",
       "std      4.637619      9.36766    6.382322    0.150307    0.175227   \n",
       "min      0.000000      0.00000    0.000000    0.710000    0.000000   \n",
       "25%      0.000000      4.00000    2.000000    0.840000    1.000000   \n",
       "50%      0.000000     12.00000    4.000000    0.920000    1.000000   \n",
       "75%      4.000000     22.00000   11.000000    1.020000    1.000000   \n",
       "max     23.000000     41.00000   28.000000    1.330000    1.000000   \n",
       "\n",
       "        otherqual    position        male       Field    yearsabs  \n",
       "count  411.000000  411.000000  411.000000  411.000000  411.000000  \n",
       "mean     0.038929    2.128954    0.749392    2.506083    7.330900  \n",
       "std      0.193663    0.817738    0.433891    1.122644   17.465017  \n",
       "min      0.000000    1.000000    0.000000    1.000000    0.000000  \n",
       "25%      0.000000    1.000000    0.500000    1.000000    0.000000  \n",
       "50%      0.000000    2.000000    1.000000    3.000000    1.000000  \n",
       "75%      0.000000    3.000000    1.000000    3.500000    2.000000  \n",
       "max      1.000000    3.000000    1.000000    4.000000  118.000000  "
      ]
     },
     "execution_count": 13,
     "metadata": {},
     "output_type": "execute_result"
    }
   ],
   "source": [
    "#Describing the dataset of the feature variables\n",
    "X_train.describe()\n"
   ]
  },
  {
   "cell_type": "markdown",
   "metadata": {},
   "source": [
    "### Describing the datasets\n",
    " - The training dataset contains <b> 80% of the overall dataset </b> and has been divided into two datasets the <b>feautures dataset </b> and the <b>response variable dataset</b>\n",
    " \n",
    " "
   ]
  },
  {
   "cell_type": "markdown",
   "metadata": {},
   "source": [
    "## 4. Distribution of the data\n",
    "The distribution of a statistical data set (or a population) is a listing or function showing all the possible values (or intervals) of the data and how often they occur.\n",
    "\n",
    "### 4.1 Histograms of salaries and years worked "
   ]
  },
  {
   "cell_type": "code",
   "execution_count": 14,
   "metadata": {},
   "outputs": [
    {
     "data": {
      "image/png": "[encoded data removed]",
      "text/plain": [
       "<Figure size 1440x432 with 2 Axes>"
      ]
     },
     "metadata": {},
     "output_type": "display_data"
    }
   ],
   "source": [
    "#Creating histograms with density line\n",
    "\n",
    "sns.set()\n",
    "sns.set(style=\"whitegrid\")\n",
    "fig, axes = plt.subplots(1, 2,figsize=(20, 6))\n",
    "sns.distplot(X_train[\"yearsworked\"], hist=True, kde=True, \n",
    "             bins=int(180/5), color = 'darkblue', \n",
    "             hist_kws={'edgecolor':'black'},\n",
    "             kde_kws={'linewidth': 4}, ax=axes[0])\n",
    "\n",
    "sns.distplot(y_train, hist=True, kde=True, \n",
    "             bins=int(180/5), color = 'darkblue', \n",
    "             hist_kws={'edgecolor':'black'},\n",
    "             kde_kws={'linewidth': 4}, ax=axes[1])\n",
    "\n",
    "axes[0].set_title('The histogram for years worked')\n",
    "axes[1].set_title('The histogram for salary')\n",
    "plt.show()"
   ]
  },
  {
   "cell_type": "markdown",
   "metadata": {},
   "source": [
    "### 4.2 Scatterplot of salary and years worked"
   ]
  },
  {
   "cell_type": "code",
   "execution_count": 15,
   "metadata": {},
   "outputs": [
    {
     "data": {
      "text/plain": [
       "<matplotlib.axes._subplots.AxesSubplot at 0x235d676e048>"
      ]
     },
     "execution_count": 15,
     "metadata": {},
     "output_type": "execute_result"
    },
    {
     "data": {
      "image/png": "[encoded data removed]",
      "text/plain": [
       "<Figure size 432x288 with 1 Axes>"
      ]
     },
     "metadata": {},
     "output_type": "display_data"
    }
   ],
   "source": [
    "#Creating scatterplot\n",
    "combined = pd.concat([X_train, y_train], axis=1)\n",
    "combined.head()\n",
    "sns.regplot(x=combined['yearsworked'], y=combined['salary'])\n"
   ]
  },
  {
   "cell_type": "markdown",
   "metadata": {},
   "source": [
    "##### Distribution of the salary and number of years worked\n",
    "- Both graphs show a distribution that is not normal, they are both skewed to the right\n",
    "- The salary distribution graph shows that there are more people earning between 35 000 dollars and 60 000 dollars and fewer people earning more than 75 000 dollars\n",
    "- The number of years worked distribution graph shows that more people have worked within the years 0 to 26 years whereas the least have worked greater than 30 years\n",
    "\n",
    "##### Scatter plot of the salary vs number of years worked\n",
    "\n",
    "The <b> line of best fit </b> shows a <b>strong positive relationship</b> between years worked and the salary earned. which implies that when the number of years worked <b> increases </b> the salary inturn also <b> increase </b>"
   ]
  },
  {
   "cell_type": "markdown",
   "metadata": {},
   "source": [
    "## 5. Modeling\n",
    "### 5.1 Simple linear regression model using statsmodels "
   ]
  },
  {
   "cell_type": "code",
   "execution_count": 16,
   "metadata": {},
   "outputs": [
    {
     "name": "stdout",
     "output_type": "stream",
     "text": [
      "                            OLS Regression Results                            \n",
      "==============================================================================\n",
      "Dep. Variable:                 salary   R-squared:                       0.389\n",
      "Model:                            OLS   Adj. R-squared:                  0.388\n",
      "Method:                 Least Squares   F-statistic:                     260.5\n",
      "Date:                Sun, 23 Feb 2020   Prob (F-statistic):           1.07e-45\n",
      "Time:                        23:17:59   Log-Likelihood:                -4365.6\n",
      "No. Observations:                 411   AIC:                             8735.\n",
      "Df Residuals:                     409   BIC:                             8743.\n",
      "Df Model:                           1                                         \n",
      "Covariance Type:            nonrobust                                         \n",
      "===============================================================================\n",
      "                  coef    std err          t      P>|t|      [0.025      0.975]\n",
      "-------------------------------------------------------------------------------\n",
      "Intercept    3.986e+04    833.214     47.833      0.000    3.82e+04    4.15e+04\n",
      "yearsworked   846.7420     52.460     16.141      0.000     743.617     949.867\n",
      "==============================================================================\n",
      "Omnibus:                       72.833   Durbin-Watson:                   2.118\n",
      "Prob(Omnibus):                  0.000   Jarque-Bera (JB):              112.908\n",
      "Skew:                           1.106   Prob(JB):                     3.04e-25\n",
      "Kurtosis:                       4.305   Cond. No.                         27.0\n",
      "==============================================================================\n",
      "\n",
      "Warnings:\n",
      "[1] Standard Errors assume that the covariance matrix of the errors is correctly specified.\n"
     ]
    }
   ],
   "source": [
    "# Fit regression model \n",
    "results = smf.ols('salary ~ yearsworked', data=combined).fit()\n",
    "\n",
    "# Inspect the results\n",
    "print(results.summary())"
   ]
  },
  {
   "cell_type": "markdown",
   "metadata": {},
   "source": [
    "### 5.2 Analysis of the model"
   ]
  },
  {
   "cell_type": "markdown",
   "metadata": {},
   "source": [
    "##### 5.2.1 Does the model significantly predict the dependent variable? \n",
    "\n",
    "<b> According to the R-squared criterion:</b>\n",
    "- Because there is only one feature variable modelled, we can either use the R-squared or the adjusted R-squared as the adjusted R-sqaured helps us with penalizing the R-squared for every variable inputed into the model.\n",
    "- R-sqaured = 0.377 and adjusted R-squared = 0.376\n",
    "  - So we can sonclude that the salary response variable is explained by 37% of the feauture variable which is number of years worked.\n",
    "  \n",
    "\n",
    "<b>According to the pvalue criterion: </b> <br>\n",
    "H0: Does not have signficant relationship <br>\n",
    "Ha: Has significant relationship\n",
    "-  The pvalue given in the OLS is 0, and this is less than the significance level of 5%. Therefore we reject the null hypothesis stating that there is no evident relationship between the predictor and the response variable.\n",
    "\n"
   ]
  },
  {
   "cell_type": "markdown",
   "metadata": {},
   "source": [
    "#####  5.2.2 What percentage of the variance in employees’ salaries is accounted for by the number of years they have worked\n",
    "- The graph shows that about 37% of the data fits the regression model."
   ]
  },
  {
   "cell_type": "markdown",
   "metadata": {},
   "source": [
    "##### 5.2.3 Interpretation of coeficients"
   ]
  },
  {
   "cell_type": "markdown",
   "metadata": {},
   "source": [
    "<b> Intercept: </b> \n",
    "- The coefficient for number of years worked is 40570\n",
    "  - That is, if the number of years worked is 0, the base salary will be $40570 \n",
    "\n",
    "<b> Number of years worked: </b> \n",
    "- The coefficient for number of years worked is 819.77\n",
    "  - That is, if the number of years worked increased by one unit, the salary will then increase by $819.77\n",
    "\n"
   ]
  },
  {
   "cell_type": "markdown",
   "metadata": {},
   "source": [
    "##### 5.2.4 Confidence intervals\n",
    "\n",
    "- A 95% confidence interval is a range of values that you can be 95% certain that it contains the true mean of the population. Idealy, with regards to the interval,the true population mean value should be on that interval. If a confidence interval does not include a particular value, we can say that it is not likely that the particular value is the true population mean. However, even if a particular value is within the interval, we shouldn't conclude that the population mean equals that specific value.\n",
    "\n",
    "- The confidence interval can also be used for coefficients of the regression model Use the confidence interval to assess the estimate of the population coefficient for each term in the model.\n"
   ]
  },
  {
   "cell_type": "markdown",
   "metadata": {},
   "source": [
    "##### 5.2.4 What do the 95% confidence intervals [0.025, 0.975] mean?\n",
    "\n",
    "You can be 95% confident that the confidence interval contains the value of the coefficient for the population.\n"
   ]
  },
  {
   "cell_type": "markdown",
   "metadata": {},
   "source": [
    "### 5.3 Predictions "
   ]
  },
  {
   "cell_type": "code",
   "execution_count": 17,
   "metadata": {},
   "outputs": [
    {
     "data": {
      "text/plain": [
       "50016.19645323409"
      ]
     },
     "execution_count": 17,
     "metadata": {},
     "output_type": "execute_result"
    }
   ],
   "source": [
    "#Calculate expected salary for someone who worked for 12 years\n",
    "\n",
    "year_12 = pd.DataFrame({'yearsworked':[12]})\n",
    "prints = results.predict(year_12)\n",
    "p=prints.iloc[0]\n",
    "p\n"
   ]
  },
  {
   "cell_type": "code",
   "execution_count": 18,
   "metadata": {},
   "outputs": [
    {
     "data": {
      "text/html": [
       "<div>\n",
       "<style scoped>\n",
       "    .dataframe tbody tr th:only-of-type {\n",
       "        vertical-align: middle;\n",
       "    }\n",
       "\n",
       "    .dataframe tbody tr th {\n",
       "        vertical-align: top;\n",
       "    }\n",
       "\n",
       "    .dataframe thead th {\n",
       "        text-align: right;\n",
       "    }\n",
       "</style>\n",
       "<table border=\"1\" class=\"dataframe\">\n",
       "  <thead>\n",
       "    <tr style=\"text-align: right;\">\n",
       "      <th></th>\n",
       "      <th>salary</th>\n",
       "    </tr>\n",
       "  </thead>\n",
       "  <tbody>\n",
       "    <tr>\n",
       "      <th>456</th>\n",
       "      <td>38572.00000</td>\n",
       "    </tr>\n",
       "    <tr>\n",
       "      <th>462</th>\n",
       "      <td>40636.00000</td>\n",
       "    </tr>\n",
       "    <tr>\n",
       "      <th>476</th>\n",
       "      <td>43958.00000</td>\n",
       "    </tr>\n",
       "    <tr>\n",
       "      <th>493</th>\n",
       "      <td>44410.85547</td>\n",
       "    </tr>\n",
       "    <tr>\n",
       "      <th>479</th>\n",
       "      <td>47661.00000</td>\n",
       "    </tr>\n",
       "    <tr>\n",
       "      <th>128</th>\n",
       "      <td>48941.00000</td>\n",
       "    </tr>\n",
       "    <tr>\n",
       "      <th>122</th>\n",
       "      <td>49667.00000</td>\n",
       "    </tr>\n",
       "    <tr>\n",
       "      <th>123</th>\n",
       "      <td>58949.00000</td>\n",
       "    </tr>\n",
       "    <tr>\n",
       "      <th>377</th>\n",
       "      <td>96156.00000</td>\n",
       "    </tr>\n",
       "  </tbody>\n",
       "</table>\n",
       "</div>"
      ],
      "text/plain": [
       "          salary\n",
       "456  38572.00000\n",
       "462  40636.00000\n",
       "476  43958.00000\n",
       "493  44410.85547\n",
       "479  47661.00000\n",
       "128  48941.00000\n",
       "122  49667.00000\n",
       "123  58949.00000\n",
       "377  96156.00000"
      ]
     },
     "execution_count": 18,
     "metadata": {},
     "output_type": "execute_result"
    }
   ],
   "source": [
    "# if combined.yearsworked == 12: return combined[combined.salary[i]] for i in combined\n",
    "\n",
    "year_12 = pd.DataFrame(combined[combined.yearsworked == 12]['salary'])\n",
    "year_12.sort_values(by=['salary'])"
   ]
  },
  {
   "cell_type": "code",
   "execution_count": 19,
   "metadata": {},
   "outputs": [
    {
     "data": {
      "text/plain": [
       "107594.6551238269"
      ]
     },
     "execution_count": 19,
     "metadata": {},
     "output_type": "execute_result"
    }
   ],
   "source": [
    "#Calculate expected salary for someone who worked for 80 years\n",
    "year_12 = pd.DataFrame({'yearsworked':[80]})\n",
    "prints = results.predict(year_12)\n",
    "p=prints.iloc[0]\n",
    "p"
   ]
  },
  {
   "cell_type": "code",
   "execution_count": 20,
   "metadata": {},
   "outputs": [
    {
     "data": {
      "text/html": [
       "<div>\n",
       "<style scoped>\n",
       "    .dataframe tbody tr th:only-of-type {\n",
       "        vertical-align: middle;\n",
       "    }\n",
       "\n",
       "    .dataframe tbody tr th {\n",
       "        vertical-align: top;\n",
       "    }\n",
       "\n",
       "    .dataframe thead th {\n",
       "        text-align: right;\n",
       "    }\n",
       "</style>\n",
       "<table border=\"1\" class=\"dataframe\">\n",
       "  <thead>\n",
       "    <tr style=\"text-align: right;\">\n",
       "      <th></th>\n",
       "      <th>salary</th>\n",
       "    </tr>\n",
       "  </thead>\n",
       "  <tbody>\n",
       "  </tbody>\n",
       "</table>\n",
       "</div>"
      ],
      "text/plain": [
       "Empty DataFrame\n",
       "Columns: [salary]\n",
       "Index: []"
      ]
     },
     "execution_count": 20,
     "metadata": {},
     "output_type": "execute_result"
    }
   ],
   "source": [
    "# if combined.yearsworked == 80: return combined[combined.salary[i]] for i in combined\n",
    "\n",
    "year_80 = pd.DataFrame(combined[combined.yearsworked == 80]['salary'])\n",
    "year_80.sort_values(by=['salary'])"
   ]
  },
  {
   "cell_type": "markdown",
   "metadata": {},
   "source": [
    "#### Are there any problems with this prediction? If so, what are they?\n",
    "\n",
    "- There was no problem in predicting the salary for the 12 years worked as 12 years is within the range of our dataset (Interpolation).\n",
    "- The problem comes into play when we are predicting for the 80 years worked as this is not within the range (extrapolation)\n",
    "- The disadvantage of predicting on extrapolated data is that it is unreliable if there are significant fluctuations in historical data. Assumes past trend will continue into the future – unlikely in many competitive business environments"
   ]
  },
  {
   "cell_type": "markdown",
   "metadata": {},
   "source": [
    "## 6. Correlation\n",
    "Correlation is a statistical technique that can show whether and how strongly pairs of variables are related."
   ]
  },
  {
   "cell_type": "markdown",
   "metadata": {},
   "source": [
    "### 6.1 Correlation Matrix\n",
    "\n"
   ]
  },
  {
   "cell_type": "code",
   "execution_count": 21,
   "metadata": {},
   "outputs": [
    {
     "data": {
      "text/html": [
       "<style  type=\"text/css\" >\n",
       "    #T_f91f3046_5681_11ea_94db_409f38b53128row0_col0 {\n",
       "            background-color:  #b40426;\n",
       "            color:  #f1f1f1;\n",
       "        }    #T_f91f3046_5681_11ea_94db_409f38b53128row0_col1 {\n",
       "            background-color:  #3b4cc0;\n",
       "            color:  #f1f1f1;\n",
       "        }    #T_f91f3046_5681_11ea_94db_409f38b53128row0_col2 {\n",
       "            background-color:  #6c8ff1;\n",
       "            color:  #000000;\n",
       "        }    #T_f91f3046_5681_11ea_94db_409f38b53128row0_col3 {\n",
       "            background-color:  #6384eb;\n",
       "            color:  #000000;\n",
       "        }    #T_f91f3046_5681_11ea_94db_409f38b53128row0_col4 {\n",
       "            background-color:  #6e90f2;\n",
       "            color:  #000000;\n",
       "        }    #T_f91f3046_5681_11ea_94db_409f38b53128row0_col5 {\n",
       "            background-color:  #c3d5f4;\n",
       "            color:  #000000;\n",
       "        }    #T_f91f3046_5681_11ea_94db_409f38b53128row0_col6 {\n",
       "            background-color:  #98b9ff;\n",
       "            color:  #000000;\n",
       "        }    #T_f91f3046_5681_11ea_94db_409f38b53128row0_col7 {\n",
       "            background-color:  #bed2f6;\n",
       "            color:  #000000;\n",
       "        }    #T_f91f3046_5681_11ea_94db_409f38b53128row0_col8 {\n",
       "            background-color:  #9abbff;\n",
       "            color:  #000000;\n",
       "        }    #T_f91f3046_5681_11ea_94db_409f38b53128row0_col9 {\n",
       "            background-color:  #d8dce2;\n",
       "            color:  #000000;\n",
       "        }    #T_f91f3046_5681_11ea_94db_409f38b53128row0_col10 {\n",
       "            background-color:  #bad0f8;\n",
       "            color:  #000000;\n",
       "        }    #T_f91f3046_5681_11ea_94db_409f38b53128row1_col0 {\n",
       "            background-color:  #3b4cc0;\n",
       "            color:  #f1f1f1;\n",
       "        }    #T_f91f3046_5681_11ea_94db_409f38b53128row1_col1 {\n",
       "            background-color:  #b40426;\n",
       "            color:  #f1f1f1;\n",
       "        }    #T_f91f3046_5681_11ea_94db_409f38b53128row1_col2 {\n",
       "            background-color:  #e46e56;\n",
       "            color:  #000000;\n",
       "        }    #T_f91f3046_5681_11ea_94db_409f38b53128row1_col3 {\n",
       "            background-color:  #5e7de7;\n",
       "            color:  #000000;\n",
       "        }    #T_f91f3046_5681_11ea_94db_409f38b53128row1_col4 {\n",
       "            background-color:  #80a3fa;\n",
       "            color:  #000000;\n",
       "        }    #T_f91f3046_5681_11ea_94db_409f38b53128row1_col5 {\n",
       "            background-color:  #7a9df8;\n",
       "            color:  #000000;\n",
       "        }    #T_f91f3046_5681_11ea_94db_409f38b53128row1_col6 {\n",
       "            background-color:  #ee8468;\n",
       "            color:  #000000;\n",
       "        }    #T_f91f3046_5681_11ea_94db_409f38b53128row1_col7 {\n",
       "            background-color:  #ead5c9;\n",
       "            color:  #000000;\n",
       "        }    #T_f91f3046_5681_11ea_94db_409f38b53128row1_col8 {\n",
       "            background-color:  #6e90f2;\n",
       "            color:  #000000;\n",
       "        }    #T_f91f3046_5681_11ea_94db_409f38b53128row1_col9 {\n",
       "            background-color:  #c7d7f0;\n",
       "            color:  #000000;\n",
       "        }    #T_f91f3046_5681_11ea_94db_409f38b53128row1_col10 {\n",
       "            background-color:  #f49a7b;\n",
       "            color:  #000000;\n",
       "        }    #T_f91f3046_5681_11ea_94db_409f38b53128row2_col0 {\n",
       "            background-color:  #6788ee;\n",
       "            color:  #000000;\n",
       "        }    #T_f91f3046_5681_11ea_94db_409f38b53128row2_col1 {\n",
       "            background-color:  #e57058;\n",
       "            color:  #000000;\n",
       "        }    #T_f91f3046_5681_11ea_94db_409f38b53128row2_col2 {\n",
       "            background-color:  #b40426;\n",
       "            color:  #f1f1f1;\n",
       "        }    #T_f91f3046_5681_11ea_94db_409f38b53128row2_col3 {\n",
       "            background-color:  #6e90f2;\n",
       "            color:  #000000;\n",
       "        }    #T_f91f3046_5681_11ea_94db_409f38b53128row2_col4 {\n",
       "            background-color:  #7da0f9;\n",
       "            color:  #000000;\n",
       "        }    #T_f91f3046_5681_11ea_94db_409f38b53128row2_col5 {\n",
       "            background-color:  #82a6fb;\n",
       "            color:  #000000;\n",
       "        }    #T_f91f3046_5681_11ea_94db_409f38b53128row2_col6 {\n",
       "            background-color:  #eed0c0;\n",
       "            color:  #000000;\n",
       "        }    #T_f91f3046_5681_11ea_94db_409f38b53128row2_col7 {\n",
       "            background-color:  #e3d9d3;\n",
       "            color:  #000000;\n",
       "        }    #T_f91f3046_5681_11ea_94db_409f38b53128row2_col8 {\n",
       "            background-color:  #6788ee;\n",
       "            color:  #000000;\n",
       "        }    #T_f91f3046_5681_11ea_94db_409f38b53128row2_col9 {\n",
       "            background-color:  #c3d5f4;\n",
       "            color:  #000000;\n",
       "        }    #T_f91f3046_5681_11ea_94db_409f38b53128row2_col10 {\n",
       "            background-color:  #f5a081;\n",
       "            color:  #000000;\n",
       "        }    #T_f91f3046_5681_11ea_94db_409f38b53128row3_col0 {\n",
       "            background-color:  #6b8df0;\n",
       "            color:  #000000;\n",
       "        }    #T_f91f3046_5681_11ea_94db_409f38b53128row3_col1 {\n",
       "            background-color:  #6788ee;\n",
       "            color:  #000000;\n",
       "        }    #T_f91f3046_5681_11ea_94db_409f38b53128row3_col2 {\n",
       "            background-color:  #7b9ff9;\n",
       "            color:  #000000;\n",
       "        }    #T_f91f3046_5681_11ea_94db_409f38b53128row3_col3 {\n",
       "            background-color:  #b40426;\n",
       "            color:  #f1f1f1;\n",
       "        }    #T_f91f3046_5681_11ea_94db_409f38b53128row3_col4 {\n",
       "            background-color:  #8caffe;\n",
       "            color:  #000000;\n",
       "        }    #T_f91f3046_5681_11ea_94db_409f38b53128row3_col5 {\n",
       "            background-color:  #7597f6;\n",
       "            color:  #000000;\n",
       "        }    #T_f91f3046_5681_11ea_94db_409f38b53128row3_col6 {\n",
       "            background-color:  #7da0f9;\n",
       "            color:  #000000;\n",
       "        }    #T_f91f3046_5681_11ea_94db_409f38b53128row3_col7 {\n",
       "            background-color:  #dfdbd9;\n",
       "            color:  #000000;\n",
       "        }    #T_f91f3046_5681_11ea_94db_409f38b53128row3_col8 {\n",
       "            background-color:  #7699f6;\n",
       "            color:  #000000;\n",
       "        }    #T_f91f3046_5681_11ea_94db_409f38b53128row3_col9 {\n",
       "            background-color:  #96b7ff;\n",
       "            color:  #000000;\n",
       "        }    #T_f91f3046_5681_11ea_94db_409f38b53128row3_col10 {\n",
       "            background-color:  #f2cab5;\n",
       "            color:  #000000;\n",
       "        }    #T_f91f3046_5681_11ea_94db_409f38b53128row4_col0 {\n",
       "            background-color:  #6e90f2;\n",
       "            color:  #000000;\n",
       "        }    #T_f91f3046_5681_11ea_94db_409f38b53128row4_col1 {\n",
       "            background-color:  #80a3fa;\n",
       "            color:  #000000;\n",
       "        }    #T_f91f3046_5681_11ea_94db_409f38b53128row4_col2 {\n",
       "            background-color:  #82a6fb;\n",
       "            color:  #000000;\n",
       "        }    #T_f91f3046_5681_11ea_94db_409f38b53128row4_col3 {\n",
       "            background-color:  #84a7fc;\n",
       "            color:  #000000;\n",
       "        }    #T_f91f3046_5681_11ea_94db_409f38b53128row4_col4 {\n",
       "            background-color:  #b40426;\n",
       "            color:  #f1f1f1;\n",
       "        }    #T_f91f3046_5681_11ea_94db_409f38b53128row4_col5 {\n",
       "            background-color:  #3b4cc0;\n",
       "            color:  #f1f1f1;\n",
       "        }    #T_f91f3046_5681_11ea_94db_409f38b53128row4_col6 {\n",
       "            background-color:  #8fb1fe;\n",
       "            color:  #000000;\n",
       "        }    #T_f91f3046_5681_11ea_94db_409f38b53128row4_col7 {\n",
       "            background-color:  #c0d4f5;\n",
       "            color:  #000000;\n",
       "        }    #T_f91f3046_5681_11ea_94db_409f38b53128row4_col8 {\n",
       "            background-color:  #96b7ff;\n",
       "            color:  #000000;\n",
       "        }    #T_f91f3046_5681_11ea_94db_409f38b53128row4_col9 {\n",
       "            background-color:  #c3d5f4;\n",
       "            color:  #000000;\n",
       "        }    #T_f91f3046_5681_11ea_94db_409f38b53128row4_col10 {\n",
       "            background-color:  #b5cdfa;\n",
       "            color:  #000000;\n",
       "        }    #T_f91f3046_5681_11ea_94db_409f38b53128row5_col0 {\n",
       "            background-color:  #c3d5f4;\n",
       "            color:  #000000;\n",
       "        }    #T_f91f3046_5681_11ea_94db_409f38b53128row5_col1 {\n",
       "            background-color:  #799cf8;\n",
       "            color:  #000000;\n",
       "        }    #T_f91f3046_5681_11ea_94db_409f38b53128row5_col2 {\n",
       "            background-color:  #88abfd;\n",
       "            color:  #000000;\n",
       "        }    #T_f91f3046_5681_11ea_94db_409f38b53128row5_col3 {\n",
       "            background-color:  #6c8ff1;\n",
       "            color:  #000000;\n",
       "        }    #T_f91f3046_5681_11ea_94db_409f38b53128row5_col4 {\n",
       "            background-color:  #3b4cc0;\n",
       "            color:  #f1f1f1;\n",
       "        }    #T_f91f3046_5681_11ea_94db_409f38b53128row5_col5 {\n",
       "            background-color:  #b40426;\n",
       "            color:  #f1f1f1;\n",
       "        }    #T_f91f3046_5681_11ea_94db_409f38b53128row5_col6 {\n",
       "            background-color:  #b5cdfa;\n",
       "            color:  #000000;\n",
       "        }    #T_f91f3046_5681_11ea_94db_409f38b53128row5_col7 {\n",
       "            background-color:  #bbd1f8;\n",
       "            color:  #000000;\n",
       "        }    #T_f91f3046_5681_11ea_94db_409f38b53128row5_col8 {\n",
       "            background-color:  #93b5fe;\n",
       "            color:  #000000;\n",
       "        }    #T_f91f3046_5681_11ea_94db_409f38b53128row5_col9 {\n",
       "            background-color:  #bcd2f7;\n",
       "            color:  #000000;\n",
       "        }    #T_f91f3046_5681_11ea_94db_409f38b53128row5_col10 {\n",
       "            background-color:  #cedaeb;\n",
       "            color:  #000000;\n",
       "        }    #T_f91f3046_5681_11ea_94db_409f38b53128row6_col0 {\n",
       "            background-color:  #92b4fe;\n",
       "            color:  #000000;\n",
       "        }    #T_f91f3046_5681_11ea_94db_409f38b53128row6_col1 {\n",
       "            background-color:  #ee8669;\n",
       "            color:  #000000;\n",
       "        }    #T_f91f3046_5681_11ea_94db_409f38b53128row6_col2 {\n",
       "            background-color:  #edd1c2;\n",
       "            color:  #000000;\n",
       "        }    #T_f91f3046_5681_11ea_94db_409f38b53128row6_col3 {\n",
       "            background-color:  #6e90f2;\n",
       "            color:  #000000;\n",
       "        }    #T_f91f3046_5681_11ea_94db_409f38b53128row6_col4 {\n",
       "            background-color:  #88abfd;\n",
       "            color:  #000000;\n",
       "        }    #T_f91f3046_5681_11ea_94db_409f38b53128row6_col5 {\n",
       "            background-color:  #afcafc;\n",
       "            color:  #000000;\n",
       "        }    #T_f91f3046_5681_11ea_94db_409f38b53128row6_col6 {\n",
       "            background-color:  #b40426;\n",
       "            color:  #f1f1f1;\n",
       "        }    #T_f91f3046_5681_11ea_94db_409f38b53128row6_col7 {\n",
       "            background-color:  #ecd3c5;\n",
       "            color:  #000000;\n",
       "        }    #T_f91f3046_5681_11ea_94db_409f38b53128row6_col8 {\n",
       "            background-color:  #6687ed;\n",
       "            color:  #000000;\n",
       "        }    #T_f91f3046_5681_11ea_94db_409f38b53128row6_col9 {\n",
       "            background-color:  #c3d5f4;\n",
       "            color:  #000000;\n",
       "        }    #T_f91f3046_5681_11ea_94db_409f38b53128row6_col10 {\n",
       "            background-color:  #ee8669;\n",
       "            color:  #000000;\n",
       "        }    #T_f91f3046_5681_11ea_94db_409f38b53128row7_col0 {\n",
       "            background-color:  #7ea1fa;\n",
       "            color:  #000000;\n",
       "        }    #T_f91f3046_5681_11ea_94db_409f38b53128row7_col1 {\n",
       "            background-color:  #c5d6f2;\n",
       "            color:  #000000;\n",
       "        }    #T_f91f3046_5681_11ea_94db_409f38b53128row7_col2 {\n",
       "            background-color:  #bfd3f6;\n",
       "            color:  #000000;\n",
       "        }    #T_f91f3046_5681_11ea_94db_409f38b53128row7_col3 {\n",
       "            background-color:  #aec9fc;\n",
       "            color:  #000000;\n",
       "        }    #T_f91f3046_5681_11ea_94db_409f38b53128row7_col4 {\n",
       "            background-color:  #82a6fb;\n",
       "            color:  #000000;\n",
       "        }    #T_f91f3046_5681_11ea_94db_409f38b53128row7_col5 {\n",
       "            background-color:  #7b9ff9;\n",
       "            color:  #000000;\n",
       "        }    #T_f91f3046_5681_11ea_94db_409f38b53128row7_col6 {\n",
       "            background-color:  #cedaeb;\n",
       "            color:  #000000;\n",
       "        }    #T_f91f3046_5681_11ea_94db_409f38b53128row7_col7 {\n",
       "            background-color:  #b40426;\n",
       "            color:  #f1f1f1;\n",
       "        }    #T_f91f3046_5681_11ea_94db_409f38b53128row7_col8 {\n",
       "            background-color:  #8caffe;\n",
       "            color:  #000000;\n",
       "        }    #T_f91f3046_5681_11ea_94db_409f38b53128row7_col9 {\n",
       "            background-color:  #3b4cc0;\n",
       "            color:  #f1f1f1;\n",
       "        }    #T_f91f3046_5681_11ea_94db_409f38b53128row7_col10 {\n",
       "            background-color:  #edd2c3;\n",
       "            color:  #000000;\n",
       "        }    #T_f91f3046_5681_11ea_94db_409f38b53128row8_col0 {\n",
       "            background-color:  #6a8bef;\n",
       "            color:  #000000;\n",
       "        }    #T_f91f3046_5681_11ea_94db_409f38b53128row8_col1 {\n",
       "            background-color:  #3b4cc0;\n",
       "            color:  #f1f1f1;\n",
       "        }    #T_f91f3046_5681_11ea_94db_409f38b53128row8_col2 {\n",
       "            background-color:  #3b4cc0;\n",
       "            color:  #f1f1f1;\n",
       "        }    #T_f91f3046_5681_11ea_94db_409f38b53128row8_col3 {\n",
       "            background-color:  #3b4cc0;\n",
       "            color:  #f1f1f1;\n",
       "        }    #T_f91f3046_5681_11ea_94db_409f38b53128row8_col4 {\n",
       "            background-color:  #6687ed;\n",
       "            color:  #000000;\n",
       "        }    #T_f91f3046_5681_11ea_94db_409f38b53128row8_col5 {\n",
       "            background-color:  #6282ea;\n",
       "            color:  #000000;\n",
       "        }    #T_f91f3046_5681_11ea_94db_409f38b53128row8_col6 {\n",
       "            background-color:  #3b4cc0;\n",
       "            color:  #f1f1f1;\n",
       "        }    #T_f91f3046_5681_11ea_94db_409f38b53128row8_col7 {\n",
       "            background-color:  #a2c1ff;\n",
       "            color:  #000000;\n",
       "        }    #T_f91f3046_5681_11ea_94db_409f38b53128row8_col8 {\n",
       "            background-color:  #b40426;\n",
       "            color:  #f1f1f1;\n",
       "        }    #T_f91f3046_5681_11ea_94db_409f38b53128row8_col9 {\n",
       "            background-color:  #b7cff9;\n",
       "            color:  #000000;\n",
       "        }    #T_f91f3046_5681_11ea_94db_409f38b53128row8_col10 {\n",
       "            background-color:  #3b4cc0;\n",
       "            color:  #f1f1f1;\n",
       "        }    #T_f91f3046_5681_11ea_94db_409f38b53128row9_col0 {\n",
       "            background-color:  #a9c6fd;\n",
       "            color:  #000000;\n",
       "        }    #T_f91f3046_5681_11ea_94db_409f38b53128row9_col1 {\n",
       "            background-color:  #8db0fe;\n",
       "            color:  #000000;\n",
       "        }    #T_f91f3046_5681_11ea_94db_409f38b53128row9_col2 {\n",
       "            background-color:  #8badfd;\n",
       "            color:  #000000;\n",
       "        }    #T_f91f3046_5681_11ea_94db_409f38b53128row9_col3 {\n",
       "            background-color:  #4358cb;\n",
       "            color:  #f1f1f1;\n",
       "        }    #T_f91f3046_5681_11ea_94db_409f38b53128row9_col4 {\n",
       "            background-color:  #85a8fc;\n",
       "            color:  #000000;\n",
       "        }    #T_f91f3046_5681_11ea_94db_409f38b53128row9_col5 {\n",
       "            background-color:  #7da0f9;\n",
       "            color:  #000000;\n",
       "        }    #T_f91f3046_5681_11ea_94db_409f38b53128row9_col6 {\n",
       "            background-color:  #8db0fe;\n",
       "            color:  #000000;\n",
       "        }    #T_f91f3046_5681_11ea_94db_409f38b53128row9_col7 {\n",
       "            background-color:  #3b4cc0;\n",
       "            color:  #f1f1f1;\n",
       "        }    #T_f91f3046_5681_11ea_94db_409f38b53128row9_col8 {\n",
       "            background-color:  #a3c2fe;\n",
       "            color:  #000000;\n",
       "        }    #T_f91f3046_5681_11ea_94db_409f38b53128row9_col9 {\n",
       "            background-color:  #b40426;\n",
       "            color:  #f1f1f1;\n",
       "        }    #T_f91f3046_5681_11ea_94db_409f38b53128row9_col10 {\n",
       "            background-color:  #98b9ff;\n",
       "            color:  #000000;\n",
       "        }    #T_f91f3046_5681_11ea_94db_409f38b53128row10_col0 {\n",
       "            background-color:  #92b4fe;\n",
       "            color:  #000000;\n",
       "        }    #T_f91f3046_5681_11ea_94db_409f38b53128row10_col1 {\n",
       "            background-color:  #f7ad90;\n",
       "            color:  #000000;\n",
       "        }    #T_f91f3046_5681_11ea_94db_409f38b53128row10_col2 {\n",
       "            background-color:  #f7b093;\n",
       "            color:  #000000;\n",
       "        }    #T_f91f3046_5681_11ea_94db_409f38b53128row10_col3 {\n",
       "            background-color:  #e0dbd8;\n",
       "            color:  #000000;\n",
       "        }    #T_f91f3046_5681_11ea_94db_409f38b53128row10_col4 {\n",
       "            background-color:  #8badfd;\n",
       "            color:  #000000;\n",
       "        }    #T_f91f3046_5681_11ea_94db_409f38b53128row10_col5 {\n",
       "            background-color:  #adc9fd;\n",
       "            color:  #000000;\n",
       "        }    #T_f91f3046_5681_11ea_94db_409f38b53128row10_col6 {\n",
       "            background-color:  #f39475;\n",
       "            color:  #000000;\n",
       "        }    #T_f91f3046_5681_11ea_94db_409f38b53128row10_col7 {\n",
       "            background-color:  #f2cab5;\n",
       "            color:  #000000;\n",
       "        }    #T_f91f3046_5681_11ea_94db_409f38b53128row10_col8 {\n",
       "            background-color:  #3b4cc0;\n",
       "            color:  #f1f1f1;\n",
       "        }    #T_f91f3046_5681_11ea_94db_409f38b53128row10_col9 {\n",
       "            background-color:  #adc9fd;\n",
       "            color:  #000000;\n",
       "        }    #T_f91f3046_5681_11ea_94db_409f38b53128row10_col10 {\n",
       "            background-color:  #b40426;\n",
       "            color:  #f1f1f1;\n",
       "        }</style><table id=\"T_f91f3046_5681_11ea_94db_409f38b53128\" ><thead>    <tr>        <th class=\"blank level0\" ></th>        <th class=\"col_heading level0 col0\" >exprior</th>        <th class=\"col_heading level0 col1\" >yearsworked</th>        <th class=\"col_heading level0 col2\" >yearsrank</th>        <th class=\"col_heading level0 col3\" >market</th>        <th class=\"col_heading level0 col4\" >degree</th>        <th class=\"col_heading level0 col5\" >otherqual</th>        <th class=\"col_heading level0 col6\" >position</th>        <th class=\"col_heading level0 col7\" >male</th>        <th class=\"col_heading level0 col8\" >Field</th>        <th class=\"col_heading level0 col9\" >yearsabs</th>        <th class=\"col_heading level0 col10\" >salary</th>    </tr></thead><tbody>\n",
       "                <tr>\n",
       "                        <th id=\"T_f91f3046_5681_11ea_94db_409f38b53128level0_row0\" class=\"row_heading level0 row0\" >exprior</th>\n",
       "                        <td id=\"T_f91f3046_5681_11ea_94db_409f38b53128row0_col0\" class=\"data row0 col0\" >1</td>\n",
       "                        <td id=\"T_f91f3046_5681_11ea_94db_409f38b53128row0_col1\" class=\"data row0 col1\" >-0.249726</td>\n",
       "                        <td id=\"T_f91f3046_5681_11ea_94db_409f38b53128row0_col2\" class=\"data row0 col2\" >-0.0733161</td>\n",
       "                        <td id=\"T_f91f3046_5681_11ea_94db_409f38b53128row0_col3\" class=\"data row0 col3\" >-0.0555306</td>\n",
       "                        <td id=\"T_f91f3046_5681_11ea_94db_409f38b53128row0_col4\" class=\"data row0 col4\" >-0.0483799</td>\n",
       "                        <td id=\"T_f91f3046_5681_11ea_94db_409f38b53128row0_col5\" class=\"data row0 col5\" >0.25964</td>\n",
       "                        <td id=\"T_f91f3046_5681_11ea_94db_409f38b53128row0_col6\" class=\"data row0 col6\" >0.079518</td>\n",
       "                        <td id=\"T_f91f3046_5681_11ea_94db_409f38b53128row0_col7\" class=\"data row0 col7\" >0.0123747</td>\n",
       "                        <td id=\"T_f91f3046_5681_11ea_94db_409f38b53128row0_col8\" class=\"data row0 col8\" >-0.0595386</td>\n",
       "                        <td id=\"T_f91f3046_5681_11ea_94db_409f38b53128row0_col9\" class=\"data row0 col9\" >0.160657</td>\n",
       "                        <td id=\"T_f91f3046_5681_11ea_94db_409f38b53128row0_col10\" class=\"data row0 col10\" >0.0807986</td>\n",
       "            </tr>\n",
       "            <tr>\n",
       "                        <th id=\"T_f91f3046_5681_11ea_94db_409f38b53128level0_row1\" class=\"row_heading level0 row1\" >yearsworked</th>\n",
       "                        <td id=\"T_f91f3046_5681_11ea_94db_409f38b53128row1_col0\" class=\"data row1 col0\" >-0.249726</td>\n",
       "                        <td id=\"T_f91f3046_5681_11ea_94db_409f38b53128row1_col1\" class=\"data row1 col1\" >1</td>\n",
       "                        <td id=\"T_f91f3046_5681_11ea_94db_409f38b53128row1_col2\" class=\"data row1 col2\" >0.802567</td>\n",
       "                        <td id=\"T_f91f3046_5681_11ea_94db_409f38b53128row1_col3\" class=\"data row1 col3\" >-0.0724999</td>\n",
       "                        <td id=\"T_f91f3046_5681_11ea_94db_409f38b53128row1_col4\" class=\"data row1 col4\" >0.0161206</td>\n",
       "                        <td id=\"T_f91f3046_5681_11ea_94db_409f38b53128row1_col5\" class=\"data row1 col5\" >-0.00585205</td>\n",
       "                        <td id=\"T_f91f3046_5681_11ea_94db_409f38b53128row1_col6\" class=\"data row1 col6\" >0.743705</td>\n",
       "                        <td id=\"T_f91f3046_5681_11ea_94db_409f38b53128row1_col7\" class=\"data row1 col7\" >0.271208</td>\n",
       "                        <td id=\"T_f91f3046_5681_11ea_94db_409f38b53128row1_col8\" class=\"data row1 col8\" >-0.248989</td>\n",
       "                        <td id=\"T_f91f3046_5681_11ea_94db_409f38b53128row1_col9\" class=\"data row1 col9\" >0.0644095</td>\n",
       "                        <td id=\"T_f91f3046_5681_11ea_94db_409f38b53128row1_col10\" class=\"data row1 col10\" >0.623793</td>\n",
       "            </tr>\n",
       "            <tr>\n",
       "                        <th id=\"T_f91f3046_5681_11ea_94db_409f38b53128level0_row2\" class=\"row_heading level0 row2\" >yearsrank</th>\n",
       "                        <td id=\"T_f91f3046_5681_11ea_94db_409f38b53128row2_col0\" class=\"data row2 col0\" >-0.0733161</td>\n",
       "                        <td id=\"T_f91f3046_5681_11ea_94db_409f38b53128row2_col1\" class=\"data row2 col1\" >0.802567</td>\n",
       "                        <td id=\"T_f91f3046_5681_11ea_94db_409f38b53128row2_col2\" class=\"data row2 col2\" >1</td>\n",
       "                        <td id=\"T_f91f3046_5681_11ea_94db_409f38b53128row2_col3\" class=\"data row2 col3\" >-0.0183231</td>\n",
       "                        <td id=\"T_f91f3046_5681_11ea_94db_409f38b53128row2_col4\" class=\"data row2 col4\" >0.00672314</td>\n",
       "                        <td id=\"T_f91f3046_5681_11ea_94db_409f38b53128row2_col5\" class=\"data row2 col5\" >0.0259073</td>\n",
       "                        <td id=\"T_f91f3046_5681_11ea_94db_409f38b53128row2_col6\" class=\"data row2 col6\" >0.45459</td>\n",
       "                        <td id=\"T_f91f3046_5681_11ea_94db_409f38b53128row2_col7\" class=\"data row2 col7\" >0.231403</td>\n",
       "                        <td id=\"T_f91f3046_5681_11ea_94db_409f38b53128row2_col8\" class=\"data row2 col8\" >-0.275838</td>\n",
       "                        <td id=\"T_f91f3046_5681_11ea_94db_409f38b53128row2_col9\" class=\"data row2 col9\" >0.0381299</td>\n",
       "                        <td id=\"T_f91f3046_5681_11ea_94db_409f38b53128row2_col10\" class=\"data row2 col10\" >0.602534</td>\n",
       "            </tr>\n",
       "            <tr>\n",
       "                        <th id=\"T_f91f3046_5681_11ea_94db_409f38b53128level0_row3\" class=\"row_heading level0 row3\" >market</th>\n",
       "                        <td id=\"T_f91f3046_5681_11ea_94db_409f38b53128row3_col0\" class=\"data row3 col0\" >-0.0555306</td>\n",
       "                        <td id=\"T_f91f3046_5681_11ea_94db_409f38b53128row3_col1\" class=\"data row3 col1\" >-0.0724999</td>\n",
       "                        <td id=\"T_f91f3046_5681_11ea_94db_409f38b53128row3_col2\" class=\"data row3 col2\" >-0.0183231</td>\n",
       "                        <td id=\"T_f91f3046_5681_11ea_94db_409f38b53128row3_col3\" class=\"data row3 col3\" >1</td>\n",
       "                        <td id=\"T_f91f3046_5681_11ea_94db_409f38b53128row3_col4\" class=\"data row3 col4\" >0.0584428</td>\n",
       "                        <td id=\"T_f91f3046_5681_11ea_94db_409f38b53128row3_col5\" class=\"data row3 col5\" >-0.0244764</td>\n",
       "                        <td id=\"T_f91f3046_5681_11ea_94db_409f38b53128row3_col6\" class=\"data row3 col6\" >-0.0184821</td>\n",
       "                        <td id=\"T_f91f3046_5681_11ea_94db_409f38b53128row3_col7\" class=\"data row3 col7\" >0.205384</td>\n",
       "                        <td id=\"T_f91f3046_5681_11ea_94db_409f38b53128row3_col8\" class=\"data row3 col8\" >-0.21432</td>\n",
       "                        <td id=\"T_f91f3046_5681_11ea_94db_409f38b53128row3_col9\" class=\"data row3 col9\" >-0.177073</td>\n",
       "                        <td id=\"T_f91f3046_5681_11ea_94db_409f38b53128row3_col10\" class=\"data row3 col10\" >0.41084</td>\n",
       "            </tr>\n",
       "            <tr>\n",
       "                        <th id=\"T_f91f3046_5681_11ea_94db_409f38b53128level0_row4\" class=\"row_heading level0 row4\" >degree</th>\n",
       "                        <td id=\"T_f91f3046_5681_11ea_94db_409f38b53128row4_col0\" class=\"data row4 col0\" >-0.0483799</td>\n",
       "                        <td id=\"T_f91f3046_5681_11ea_94db_409f38b53128row4_col1\" class=\"data row4 col1\" >0.0161206</td>\n",
       "                        <td id=\"T_f91f3046_5681_11ea_94db_409f38b53128row4_col2\" class=\"data row4 col2\" >0.00672314</td>\n",
       "                        <td id=\"T_f91f3046_5681_11ea_94db_409f38b53128row4_col3\" class=\"data row4 col3\" >0.0584428</td>\n",
       "                        <td id=\"T_f91f3046_5681_11ea_94db_409f38b53128row4_col4\" class=\"data row4 col4\" >1</td>\n",
       "                        <td id=\"T_f91f3046_5681_11ea_94db_409f38b53128row4_col5\" class=\"data row4 col5\" >-0.251121</td>\n",
       "                        <td id=\"T_f91f3046_5681_11ea_94db_409f38b53128row4_col6\" class=\"data row4 col6\" >0.0455567</td>\n",
       "                        <td id=\"T_f91f3046_5681_11ea_94db_409f38b53128row4_col7\" class=\"data row4 col7\" >0.0238063</td>\n",
       "                        <td id=\"T_f91f3046_5681_11ea_94db_409f38b53128row4_col8\" class=\"data row4 col8\" >-0.0796107</td>\n",
       "                        <td id=\"T_f91f3046_5681_11ea_94db_409f38b53128row4_col9\" class=\"data row4 col9\" >0.0353075</td>\n",
       "                        <td id=\"T_f91f3046_5681_11ea_94db_409f38b53128row4_col10\" class=\"data row4 col10\" >0.0546875</td>\n",
       "            </tr>\n",
       "            <tr>\n",
       "                        <th id=\"T_f91f3046_5681_11ea_94db_409f38b53128level0_row5\" class=\"row_heading level0 row5\" >otherqual</th>\n",
       "                        <td id=\"T_f91f3046_5681_11ea_94db_409f38b53128row5_col0\" class=\"data row5 col0\" >0.25964</td>\n",
       "                        <td id=\"T_f91f3046_5681_11ea_94db_409f38b53128row5_col1\" class=\"data row5 col1\" >-0.00585205</td>\n",
       "                        <td id=\"T_f91f3046_5681_11ea_94db_409f38b53128row5_col2\" class=\"data row5 col2\" >0.0259073</td>\n",
       "                        <td id=\"T_f91f3046_5681_11ea_94db_409f38b53128row5_col3\" class=\"data row5 col3\" >-0.0244764</td>\n",
       "                        <td id=\"T_f91f3046_5681_11ea_94db_409f38b53128row5_col4\" class=\"data row5 col4\" >-0.251121</td>\n",
       "                        <td id=\"T_f91f3046_5681_11ea_94db_409f38b53128row5_col5\" class=\"data row5 col5\" >1</td>\n",
       "                        <td id=\"T_f91f3046_5681_11ea_94db_409f38b53128row5_col6\" class=\"data row5 col6\" >0.183841</td>\n",
       "                        <td id=\"T_f91f3046_5681_11ea_94db_409f38b53128row5_col7\" class=\"data row5 col7\" >0.000282493</td>\n",
       "                        <td id=\"T_f91f3046_5681_11ea_94db_409f38b53128row5_col8\" class=\"data row5 col8\" >-0.0908385</td>\n",
       "                        <td id=\"T_f91f3046_5681_11ea_94db_409f38b53128row5_col9\" class=\"data row5 col9\" >0.00555658</td>\n",
       "                        <td id=\"T_f91f3046_5681_11ea_94db_409f38b53128row5_col10\" class=\"data row5 col10\" >0.177653</td>\n",
       "            </tr>\n",
       "            <tr>\n",
       "                        <th id=\"T_f91f3046_5681_11ea_94db_409f38b53128level0_row6\" class=\"row_heading level0 row6\" >position</th>\n",
       "                        <td id=\"T_f91f3046_5681_11ea_94db_409f38b53128row6_col0\" class=\"data row6 col0\" >0.079518</td>\n",
       "                        <td id=\"T_f91f3046_5681_11ea_94db_409f38b53128row6_col1\" class=\"data row6 col1\" >0.743705</td>\n",
       "                        <td id=\"T_f91f3046_5681_11ea_94db_409f38b53128row6_col2\" class=\"data row6 col2\" >0.45459</td>\n",
       "                        <td id=\"T_f91f3046_5681_11ea_94db_409f38b53128row6_col3\" class=\"data row6 col3\" >-0.0184821</td>\n",
       "                        <td id=\"T_f91f3046_5681_11ea_94db_409f38b53128row6_col4\" class=\"data row6 col4\" >0.0455567</td>\n",
       "                        <td id=\"T_f91f3046_5681_11ea_94db_409f38b53128row6_col5\" class=\"data row6 col5\" >0.183841</td>\n",
       "                        <td id=\"T_f91f3046_5681_11ea_94db_409f38b53128row6_col6\" class=\"data row6 col6\" >1</td>\n",
       "                        <td id=\"T_f91f3046_5681_11ea_94db_409f38b53128row6_col7\" class=\"data row6 col7\" >0.290656</td>\n",
       "                        <td id=\"T_f91f3046_5681_11ea_94db_409f38b53128row6_col8\" class=\"data row6 col8\" >-0.283806</td>\n",
       "                        <td id=\"T_f91f3046_5681_11ea_94db_409f38b53128row6_col9\" class=\"data row6 col9\" >0.0390164</td>\n",
       "                        <td id=\"T_f91f3046_5681_11ea_94db_409f38b53128row6_col10\" class=\"data row6 col10\" >0.694746</td>\n",
       "            </tr>\n",
       "            <tr>\n",
       "                        <th id=\"T_f91f3046_5681_11ea_94db_409f38b53128level0_row7\" class=\"row_heading level0 row7\" >male</th>\n",
       "                        <td id=\"T_f91f3046_5681_11ea_94db_409f38b53128row7_col0\" class=\"data row7 col0\" >0.0123747</td>\n",
       "                        <td id=\"T_f91f3046_5681_11ea_94db_409f38b53128row7_col1\" class=\"data row7 col1\" >0.271208</td>\n",
       "                        <td id=\"T_f91f3046_5681_11ea_94db_409f38b53128row7_col2\" class=\"data row7 col2\" >0.231403</td>\n",
       "                        <td id=\"T_f91f3046_5681_11ea_94db_409f38b53128row7_col3\" class=\"data row7 col3\" >0.205384</td>\n",
       "                        <td id=\"T_f91f3046_5681_11ea_94db_409f38b53128row7_col4\" class=\"data row7 col4\" >0.0238063</td>\n",
       "                        <td id=\"T_f91f3046_5681_11ea_94db_409f38b53128row7_col5\" class=\"data row7 col5\" >0.000282493</td>\n",
       "                        <td id=\"T_f91f3046_5681_11ea_94db_409f38b53128row7_col6\" class=\"data row7 col6\" >0.290656</td>\n",
       "                        <td id=\"T_f91f3046_5681_11ea_94db_409f38b53128row7_col7\" class=\"data row7 col7\" >1</td>\n",
       "                        <td id=\"T_f91f3046_5681_11ea_94db_409f38b53128row7_col8\" class=\"data row7 col8\" >-0.119539</td>\n",
       "                        <td id=\"T_f91f3046_5681_11ea_94db_409f38b53128row7_col9\" class=\"data row7 col9\" >-0.62599</td>\n",
       "                        <td id=\"T_f91f3046_5681_11ea_94db_409f38b53128row7_col10\" class=\"data row7 col10\" >0.357847</td>\n",
       "            </tr>\n",
       "            <tr>\n",
       "                        <th id=\"T_f91f3046_5681_11ea_94db_409f38b53128level0_row8\" class=\"row_heading level0 row8\" >Field</th>\n",
       "                        <td id=\"T_f91f3046_5681_11ea_94db_409f38b53128row8_col0\" class=\"data row8 col0\" >-0.0595386</td>\n",
       "                        <td id=\"T_f91f3046_5681_11ea_94db_409f38b53128row8_col1\" class=\"data row8 col1\" >-0.248989</td>\n",
       "                        <td id=\"T_f91f3046_5681_11ea_94db_409f38b53128row8_col2\" class=\"data row8 col2\" >-0.275838</td>\n",
       "                        <td id=\"T_f91f3046_5681_11ea_94db_409f38b53128row8_col3\" class=\"data row8 col3\" >-0.21432</td>\n",
       "                        <td id=\"T_f91f3046_5681_11ea_94db_409f38b53128row8_col4\" class=\"data row8 col4\" >-0.0796107</td>\n",
       "                        <td id=\"T_f91f3046_5681_11ea_94db_409f38b53128row8_col5\" class=\"data row8 col5\" >-0.0908385</td>\n",
       "                        <td id=\"T_f91f3046_5681_11ea_94db_409f38b53128row8_col6\" class=\"data row8 col6\" >-0.283806</td>\n",
       "                        <td id=\"T_f91f3046_5681_11ea_94db_409f38b53128row8_col7\" class=\"data row8 col7\" >-0.119539</td>\n",
       "                        <td id=\"T_f91f3046_5681_11ea_94db_409f38b53128row8_col8\" class=\"data row8 col8\" >1</td>\n",
       "                        <td id=\"T_f91f3046_5681_11ea_94db_409f38b53128row8_col9\" class=\"data row8 col9\" >-0.019011</td>\n",
       "                        <td id=\"T_f91f3046_5681_11ea_94db_409f38b53128row8_col10\" class=\"data row8 col10\" >-0.488979</td>\n",
       "            </tr>\n",
       "            <tr>\n",
       "                        <th id=\"T_f91f3046_5681_11ea_94db_409f38b53128level0_row9\" class=\"row_heading level0 row9\" >yearsabs</th>\n",
       "                        <td id=\"T_f91f3046_5681_11ea_94db_409f38b53128row9_col0\" class=\"data row9 col0\" >0.160657</td>\n",
       "                        <td id=\"T_f91f3046_5681_11ea_94db_409f38b53128row9_col1\" class=\"data row9 col1\" >0.0644095</td>\n",
       "                        <td id=\"T_f91f3046_5681_11ea_94db_409f38b53128row9_col2\" class=\"data row9 col2\" >0.0381299</td>\n",
       "                        <td id=\"T_f91f3046_5681_11ea_94db_409f38b53128row9_col3\" class=\"data row9 col3\" >-0.177073</td>\n",
       "                        <td id=\"T_f91f3046_5681_11ea_94db_409f38b53128row9_col4\" class=\"data row9 col4\" >0.0353075</td>\n",
       "                        <td id=\"T_f91f3046_5681_11ea_94db_409f38b53128row9_col5\" class=\"data row9 col5\" >0.00555658</td>\n",
       "                        <td id=\"T_f91f3046_5681_11ea_94db_409f38b53128row9_col6\" class=\"data row9 col6\" >0.0390164</td>\n",
       "                        <td id=\"T_f91f3046_5681_11ea_94db_409f38b53128row9_col7\" class=\"data row9 col7\" >-0.62599</td>\n",
       "                        <td id=\"T_f91f3046_5681_11ea_94db_409f38b53128row9_col8\" class=\"data row9 col8\" >-0.019011</td>\n",
       "                        <td id=\"T_f91f3046_5681_11ea_94db_409f38b53128row9_col9\" class=\"data row9 col9\" >1</td>\n",
       "                        <td id=\"T_f91f3046_5681_11ea_94db_409f38b53128row9_col10\" class=\"data row9 col10\" >-0.0671651</td>\n",
       "            </tr>\n",
       "            <tr>\n",
       "                        <th id=\"T_f91f3046_5681_11ea_94db_409f38b53128level0_row10\" class=\"row_heading level0 row10\" >salary</th>\n",
       "                        <td id=\"T_f91f3046_5681_11ea_94db_409f38b53128row10_col0\" class=\"data row10 col0\" >0.0807986</td>\n",
       "                        <td id=\"T_f91f3046_5681_11ea_94db_409f38b53128row10_col1\" class=\"data row10 col1\" >0.623793</td>\n",
       "                        <td id=\"T_f91f3046_5681_11ea_94db_409f38b53128row10_col2\" class=\"data row10 col2\" >0.602534</td>\n",
       "                        <td id=\"T_f91f3046_5681_11ea_94db_409f38b53128row10_col3\" class=\"data row10 col3\" >0.41084</td>\n",
       "                        <td id=\"T_f91f3046_5681_11ea_94db_409f38b53128row10_col4\" class=\"data row10 col4\" >0.0546875</td>\n",
       "                        <td id=\"T_f91f3046_5681_11ea_94db_409f38b53128row10_col5\" class=\"data row10 col5\" >0.177653</td>\n",
       "                        <td id=\"T_f91f3046_5681_11ea_94db_409f38b53128row10_col6\" class=\"data row10 col6\" >0.694746</td>\n",
       "                        <td id=\"T_f91f3046_5681_11ea_94db_409f38b53128row10_col7\" class=\"data row10 col7\" >0.357847</td>\n",
       "                        <td id=\"T_f91f3046_5681_11ea_94db_409f38b53128row10_col8\" class=\"data row10 col8\" >-0.488979</td>\n",
       "                        <td id=\"T_f91f3046_5681_11ea_94db_409f38b53128row10_col9\" class=\"data row10 col9\" >-0.0671651</td>\n",
       "                        <td id=\"T_f91f3046_5681_11ea_94db_409f38b53128row10_col10\" class=\"data row10 col10\" >1</td>\n",
       "            </tr>\n",
       "    </tbody></table>"
      ],
      "text/plain": [
       "<pandas.io.formats.style.Styler at 0x235d648fac8>"
      ]
     },
     "execution_count": 21,
     "metadata": {},
     "output_type": "execute_result"
    }
   ],
   "source": [
    "rs = np.random.RandomState(0)\n",
    "df = pd.DataFrame(rs.rand(10, 10))\n",
    "corr = combined.corr()\n",
    "corr.style.background_gradient(cmap='coolwarm')"
   ]
  },
  {
   "cell_type": "markdown",
   "metadata": {},
   "source": [
    "### 6.2 Correlation heat map"
   ]
  },
  {
   "cell_type": "code",
   "execution_count": 22,
   "metadata": {},
   "outputs": [
    {
     "data": {
      "image/png": "[encoded data removed]",
      "text/plain": [
       "<Figure size 432x288 with 2 Axes>"
      ]
     },
     "metadata": {},
     "output_type": "display_data"
    }
   ],
   "source": [
    "correlation = combined.corr()\n",
    "\n",
    "ax = sns.heatmap(\n",
    "    correlation, \n",
    "    vmin=-1, vmax=1, center=0,\n",
    "    cmap=sns.diverging_palette(20, 220, n=200),\n",
    "    square=True\n",
    ")\n",
    "ax.set_xticklabels(\n",
    "    ax.get_xticklabels(),\n",
    "    rotation=45,\n",
    "    horizontalalignment='right'\n",
    ");"
   ]
  },
  {
   "cell_type": "code",
   "execution_count": 23,
   "metadata": {},
   "outputs": [
    {
     "data": {
      "image/png": "[encoded data removed]",
      "text/plain": [
       "<Figure size 720x720 with 20 Axes>"
      ]
     },
     "metadata": {},
     "output_type": "display_data"
    }
   ],
   "source": [
    "salary_corr = combined[['salary', 'market', 'yearsworked', 'yearsrank']]\n",
    "\n",
    "sns.pairplot(salary_corr)\n",
    "plt.show()"
   ]
  },
  {
   "cell_type": "markdown",
   "metadata": {},
   "source": [
    "### Interpreting correlation graph\n",
    "\n",
    "- The above table shows the correlation between two variables, showcasing its <b>strengths and direction</b>. This helps us to select the features that have a significant impact on the response variable and therefore helping us predict the salaries.\n",
    "\n",
    "- looking at the correlation between the response variable Salary and the feature variable yearsworked which is <b>0.623589</b>. This is a <b> fairly strong positive relationship </b>, and therefore we can assume as the number of years worked increases the value of salary also increases."
   ]
  },
  {
   "cell_type": "markdown",
   "metadata": {},
   "source": [
    "#### We have only looked at the number of years an employee has worked. What other employee characteristics might influence their salary?\n",
    "\n",
    "Looking at the the correlation matrix, the features that have good correlation with salary are yearsrank, position and field. The rest of the features have less than 50% correlation with salary."
   ]
  },
  {
   "cell_type": "markdown",
   "metadata": {},
   "source": [
    "## 7. RSME\n",
    "Root mean squared error (RMSE): RMSE is a quadratic scoring rule that also measures the average magnitude of the error. It’s the square root of the average squared differences between prediction and actual observation.\n"
   ]
  },
  {
   "cell_type": "code",
   "execution_count": null,
   "metadata": {},
   "outputs": [],
   "source": [
    "test_preds= results.predict(results.X_train)\n",
    "rmse_train= rmse(combine.salary, results)\n",
    "rmse_test= rmse(combine.salary, test_preds)\n",
    "print(f'The rmse  for the train set is {rmse_train}')\n",
    "print(f'The rmse  for the test set is {rmse_test}')\n",
    "print(f'the difference in RMSE between training and testing is {rmse_test- rmse_train}')"
   ]
  },
  {
   "cell_type": "code",
   "execution_count": null,
   "metadata": {},
   "outputs": [],
   "source": [
    "rmse(y_train,results.predict(X_train))\n",
    "rmse_train=rmse(y_train, results.predict(X_train))\n",
    "rmse_test=rmse(y_train, results.predict(X_train))\n",
    "print('The rmse  for the train set is :' ,rmse_train)\n",
    "print('The rmse  for the test set is :',rmse_test)\n",
    "print('the difference in RMSE between training and testing is:', rmse_test - rmse_train)"
   ]
  },
  {
   "cell_type": "markdown",
   "metadata": {},
   "source": [
    "##### What is the difference in the Root Mean Square Error (RMSE) between the training and test sets? Is there any evidence of overfitting?\n",
    "\n",
    "Our model performs better on the train dataset than it does on the test set. With this we can now conclude that the model is overfitted. We say this because our model shows low bias but high variance. To better train our model we need to identify relevant variables and terms that you are likely to influence our outcome that we hoping f"
   ]
  },
  {
   "cell_type": "code",
   "execution_count": null,
   "metadata": {},
   "outputs": [],
   "source": [
    "linreg = LinearRegression()\n"
   ]
  },
  {
   "cell_type": "code",
   "execution_count": null,
   "metadata": {},
   "outputs": [],
   "source": [
    "linreg.fit(X_train,y_train)"
   ]
  },
  {
   "cell_type": "code",
   "execution_count": null,
   "metadata": {},
   "outputs": [],
   "source": [
    "#predictions for test\n",
    "pred_test =linreg.predict(X_test)\n",
    "#predictions for train\n",
    "pred_train =linreg.predict(X_train)"
   ]
  },
  {
   "cell_type": "code",
   "execution_count": null,
   "metadata": {},
   "outputs": [],
   "source": [
    "#Mean square Error of the test\n",
    "MSE_test = mean_squared_error(y_test,pred_test)\n",
    "MSE_test"
   ]
  },
  {
   "cell_type": "code",
   "execution_count": null,
   "metadata": {},
   "outputs": [],
   "source": [
    "#Mean square Error of the train\n",
    "MSE_train = mean_squared_error(y_train,pred_train)\n",
    "MSE_train"
   ]
  },
  {
   "cell_type": "code",
   "execution_count": null,
   "metadata": {},
   "outputs": [],
   "source": [
    "#root mean square error of the test dataset\n",
    "RMSE_test = sqrt(MSE_test)\n",
    "RMSE_test\n"
   ]
  },
  {
   "cell_type": "code",
   "execution_count": null,
   "metadata": {},
   "outputs": [],
   "source": [
    "RMSE_train = sqrt(MSE_train)\n",
    "RMSE_train\n"
   ]
  },
  {
   "cell_type": "markdown",
   "metadata": {},
   "source": [
    "RMSE_train is bigger than  RMSE_test by slight margin therefore there is overfitting on our model."
   ]
  }
 ],
 "metadata": {
  "kernelspec": {
   "display_name": "Python 3",
   "language": "python",
   "name": "python3"
  },
  "language_info": {
   "codemirror_mode": {
    "name": "ipython",
    "version": 3
   },
   "file_extension": ".py",
   "mimetype": "text/x-python",
   "name": "python",
   "nbconvert_exporter": "python",
   "pygments_lexer": "ipython3",
   "version": "3.7.3"
  }
 },
 "nbformat": 4,
 "nbformat_minor": 2
}
